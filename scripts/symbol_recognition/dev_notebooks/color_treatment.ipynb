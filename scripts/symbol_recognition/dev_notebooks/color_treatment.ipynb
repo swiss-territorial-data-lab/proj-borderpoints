{
 "cells": [
  {
   "cell_type": "code",
   "execution_count": null,
   "metadata": {},
   "outputs": [],
   "source": [
    "import os\n",
    "import sys\n",
    "from glob import glob\n",
    "from loguru import logger\n",
    "from tqdm import tqdm\n",
    "from yaml import load, FullLoader\n",
    "\n",
    "import geopandas as gpd\n",
    "import numpy as np\n",
    "import pandas as pd\n",
    "import rasterio as rio\n",
    "from matplotlib import colors\n",
    "import matplotlib.gridspec as gridspec\n",
    "from matplotlib import pyplot as plt\n",
    "from rasterstats import zonal_stats\n",
    "from rasterio.features import shapes\n",
    "from shapely.geometry import shape\n",
    "from skimage.color import rgb2hsv\n",
    "from skimage.exposure import adjust_gamma, adjust_log, adjust_sigmoid, equalize_adapthist, equalize_hist, rescale_intensity\n",
    "\n",
    "import cv2"
   ]
  },
  {
   "cell_type": "code",
   "execution_count": null,
   "metadata": {},
   "outputs": [],
   "source": [
    "sys.path.insert(1,'../..')\n",
    "import functions.fct_misc as misc\n",
    "from functions.fct_rasters import remove_black_border\n",
    "\n",
    "logger = misc.format_logger(logger)"
   ]
  },
  {
   "cell_type": "markdown",
   "metadata": {},
   "source": [
    "## Functions"
   ]
  },
  {
   "cell_type": "code",
   "execution_count": null,
   "metadata": {},
   "outputs": [],
   "source": [
    "def print_images(image_dict, vmax):\n",
    "    f, axarr = plt.subplots(3,3)\n",
    "    axarr[0,0].imshow(image_dict['0_2570184_1148461.tif'], vmin=0, vmax=vmax)\n",
    "    axarr[0,1].imshow(image_dict['4_2569842_1149296.tif'], vmin=0, vmax=vmax)\n",
    "    axarr[0,2].imshow(image_dict['1_2571614_1152259.tif'], vmin=0, vmax=vmax)\n",
    "    axarr[1,0].imshow(image_dict['5_2569300_1148156.tif'], vmin=0, vmax=vmax)\n",
    "    axarr[1,1].imshow(image_dict['0_2570190_1148491.tif'], vmin=0, vmax=vmax)\n",
    "    axarr[1,2].imshow(image_dict['10_2580845_1165703.tif'], vmin=0, vmax=vmax)\n",
    "    axarr[2,0].imshow(image_dict['4_2569483_1149035.tif'], vmin=0, vmax=vmax)\n",
    "    axarr[2,1].imshow(image_dict['5_2569281_1148151.tif'], vmin=0, vmax=vmax)\n",
    "    axarr[2,2].imshow(image_dict['6_2567727_1147671.tif'], vmin=0, vmax=vmax)"
   ]
  },
  {
   "cell_type": "markdown",
   "metadata": {},
   "source": [
    "Config"
   ]
  },
  {
   "cell_type": "code",
   "execution_count": null,
   "metadata": {},
   "outputs": [],
   "source": [
    "with open('../../../config/config_symbol_classif.yaml') as fp:\n",
    "    cfg = load(fp, Loader=FullLoader)['test_notebooks.py']\n",
    "\n",
    "WORKING_DIR = cfg['working_dir']\n",
    "OUTPUT_DIR = cfg['output_dir']\n",
    "TILE_DIR = cfg['tile_dir']\n",
    "\n",
    "IMAGE_FILE = cfg['image_gpkg']"
   ]
  },
  {
   "cell_type": "code",
   "execution_count": null,
   "metadata": {},
   "outputs": [],
   "source": [
    "os.chdir(WORKING_DIR)\n",
    "os.makedirs(OUTPUT_DIR, exist_ok=True)"
   ]
  },
  {
   "cell_type": "markdown",
   "metadata": {},
   "source": [
    "Data"
   ]
  },
  {
   "cell_type": "code",
   "execution_count": null,
   "metadata": {},
   "outputs": [],
   "source": [
    "logger.info('Read data...')\n",
    "tile_list = glob(os.path.join(TILE_DIR, '*.tif'))\n",
    "images_gdf = gpd.read_file(IMAGE_FILE)\n",
    "images_gdf.loc[images_gdf.CATEGORY == 'undetermined', 'CATEGORY'] = 'undet'"
   ]
  },
  {
   "cell_type": "code",
   "execution_count": null,
   "metadata": {},
   "outputs": [],
   "source": [
    "image_data = {}\n",
    "meta_data = {}\n",
    "for tile_path in tile_list:\n",
    "    with rio.open(tile_path) as src:\n",
    "        tile_name = os.path.basename(tile_path)\n",
    "        image_data[tile_name] = src.read().transpose(1, 2, 0)\n",
    "        meta_data[tile_name] = src.meta"
   ]
  },
  {
   "cell_type": "markdown",
   "metadata": {},
   "source": [
    "## Color filters"
   ]
  },
  {
   "cell_type": "code",
   "execution_count": null,
   "metadata": {},
   "outputs": [],
   "source": [
    "image_dict = image_data\n",
    "vmax = 255\n",
    "print_images(image_dict, vmax)"
   ]
  },
  {
   "cell_type": "code",
   "execution_count": null,
   "metadata": {},
   "outputs": [],
   "source": [
    "cropped_images = {k: remove_black_border(v) for k, v in image_dict.items()}\n",
    "image_dict = image_data\n",
    "vmax = 255\n",
    "print_images(cropped_images, vmax)"
   ]
  },
  {
   "cell_type": "code",
   "execution_count": null,
   "metadata": {},
   "outputs": [],
   "source": [
    "def get_pixel_color(image):\n",
    "    pixel_colors = image.reshape((np.shape(image)[0]*np.shape(image)[1], 3))\n",
    "    norm = colors.Normalize(vmin=-1.,vmax=1.)\n",
    "    norm.autoscale(pixel_colors)\n",
    "    pixel_colors = norm(pixel_colors).tolist()\n",
    "\n",
    "    return pixel_colors\n",
    "\n",
    "\n",
    "def plot_hsv(image, fig, spec, pos_x=1, pos_y=1):\n",
    "    pixel_colors = get_pixel_color(image)\n",
    "    hsv_nemo = rgb2hsv(image)\n",
    "\n",
    "    h, s, v = cv2.split(hsv_nemo)\n",
    "    \n",
    "    axis = fig.add_subplot(spec[pos_x, pos_y], projection=\"3d\")    \n",
    "\n",
    "    axis.scatter(h.flatten(), s.flatten(), v.flatten(), facecolors=pixel_colors, marker=\".\")\n",
    "    axis.set_xlabel(\"Hue\")\n",
    "    axis.set_ylabel(\"Saturation\")\n",
    "    axis.set_zlabel(\"Value\")"
   ]
  },
  {
   "cell_type": "code",
   "execution_count": null,
   "metadata": {},
   "outputs": [],
   "source": [
    "fig = plt.figure(figsize=(18, 16))\n",
    "\n",
    "spec = gridspec.GridSpec(ncols=3, nrows=3, figure=fig)\n",
    "plot_hsv(image_dict['0_2570184_1148461.tif'], fig, spec, 0, 0)\n",
    "plot_hsv(image_dict['4_2569842_1149296.tif'], fig, spec, 0, 1)\n",
    "plot_hsv(image_dict['1_2571614_1152259.tif'], fig, spec, 0, 2)\n",
    "plot_hsv(image_dict['5_2569300_1148156.tif'], fig, spec, 1, 0)\n",
    "plot_hsv(image_dict['0_2570190_1148491.tif'], fig, spec, 1, 1)\n",
    "plot_hsv(image_dict['10_2580845_1165703.tif'], fig, spec, 1, 2)\n",
    "plot_hsv(image_dict['4_2569483_1149035.tif'], fig, spec, 2, 0)\n",
    "plot_hsv(image_dict['5_2569281_1148151.tif'], fig, spec, 2, 1)\n",
    "plot_hsv(image_dict['6_2567727_1147671.tif'], fig, spec, 2, 2)\n",
    "\n",
    "plt.show()"
   ]
  },
  {
   "cell_type": "code",
   "execution_count": null,
   "metadata": {},
   "outputs": [],
   "source": [
    "def plot_rgb(image, fig, spec, pos_x=1, pos_y=1):\n",
    "    pixel_colors = get_pixel_color(image)\n",
    "\n",
    "    r, g, b = cv2.split(image)\n",
    "    \n",
    "    axis = fig.add_subplot(spec[pos_x, pos_y], projection=\"3d\")    \n",
    "\n",
    "    axis.scatter(r.flatten(), g.flatten(), b.flatten(), facecolors=pixel_colors, marker=\".\")\n",
    "    axis.set_xlabel(\"Red\")\n",
    "    axis.set_ylabel(\"Green\")\n",
    "    axis.set_zlabel(\"Blue\")"
   ]
  },
  {
   "cell_type": "code",
   "execution_count": null,
   "metadata": {},
   "outputs": [],
   "source": [
    "fig = plt.figure(figsize=(9, 8))\n",
    "\n",
    "spec = gridspec.GridSpec(ncols=3, nrows=3, figure=fig)\n",
    "plot_rgb(image_dict['0_2570184_1148461.tif'], fig, spec, 0, 0)\n",
    "plot_rgb(image_dict['4_2569842_1149296.tif'], fig, spec, 0, 1)\n",
    "plot_rgb(image_dict['1_2571614_1152259.tif'], fig, spec, 0, 2)\n",
    "plot_rgb(image_dict['5_2569300_1148156.tif'], fig, spec, 1, 0)\n",
    "plot_rgb(image_dict['0_2570190_1148491.tif'], fig, spec, 1, 1)\n",
    "plot_rgb(image_dict['10_2580845_1165703.tif'], fig, spec, 1, 2)\n",
    "plot_rgb(image_dict['4_2569483_1149035.tif'], fig, spec, 2, 0)\n",
    "plot_rgb(image_dict['5_2569281_1148151.tif'], fig, spec, 2, 1)\n",
    "plot_rgb(image_dict['6_2567727_1147671.tif'], fig, spec, 2, 2)"
   ]
  },
  {
   "cell_type": "code",
   "execution_count": null,
   "metadata": {},
   "outputs": [],
   "source": [
    "binary_color_list = {key: np.where((i[:, :, 0] < 250) & (i[:, :, 1] < 225) & (i[:, :, 2] < 225) , True, False) for key, i in cropped_images.items()}"
   ]
  },
  {
   "cell_type": "code",
   "execution_count": null,
   "metadata": {},
   "outputs": [],
   "source": [
    "image_dict = binary_color_list\n",
    "vmax = 1\n",
    "f, axarr = plt.subplots(3,3)\n",
    "axarr[0,0].imshow(image_dict['0_2570184_1148461.tif'], vmin=0, vmax=vmax)\n",
    "axarr[0,1].imshow(image_dict['4_2569842_1149296.tif'], vmin=0, vmax=vmax)\n",
    "axarr[0,2].imshow(image_dict['1_2571614_1152259.tif'], vmin=0, vmax=vmax)\n",
    "axarr[1,0].imshow(image_dict['5_2569300_1148156.tif'], vmin=0, vmax=vmax)\n",
    "axarr[1,1].imshow(image_dict['0_2570190_1148491.tif'], vmin=0, vmax=vmax)\n",
    "axarr[1,2].imshow(image_dict['10_2580845_1165703.tif'], vmin=0, vmax=vmax)\n",
    "axarr[2,0].imshow(image_dict['4_2569483_1149035.tif'], vmin=0, vmax=vmax)\n",
    "axarr[2,1].imshow(image_dict['5_2569281_1148151.tif'], vmin=0, vmax=vmax)\n",
    "axarr[2,2].imshow(image_dict['6_2567727_1147671.tif'], vmin=0, vmax=vmax)"
   ]
  },
  {
   "cell_type": "code",
   "execution_count": null,
   "metadata": {},
   "outputs": [],
   "source": [
    "image_data['5_2569281_1148151.tif'][:,:,1]"
   ]
  },
  {
   "cell_type": "markdown",
   "metadata": {},
   "source": [
    "## HSV Filters"
   ]
  },
  {
   "cell_type": "code",
   "execution_count": null,
   "metadata": {},
   "outputs": [],
   "source": [
    "data_hsv = {key: rgb2hsv(i) for key, i in image_data.items()}"
   ]
  },
  {
   "cell_type": "code",
   "execution_count": null,
   "metadata": {},
   "outputs": [],
   "source": [
    "image_dict = data_hsv\n",
    "vmax = 255\n",
    "print_images(image_dict, vmax)"
   ]
  },
  {
   "cell_type": "code",
   "execution_count": null,
   "metadata": {},
   "outputs": [],
   "source": [
    "binary_list = {key: np.where(i[:, :, 2] < 0.90, 1, 0) for key, i in data_hsv.items()}\n"
   ]
  },
  {
   "cell_type": "code",
   "execution_count": null,
   "metadata": {},
   "outputs": [],
   "source": [
    "image_dict = binary_list\n",
    "vmax = 1\n",
    "print_images(image_dict, vmax)"
   ]
  },
  {
   "cell_type": "code",
   "execution_count": null,
   "metadata": {},
   "outputs": [],
   "source": [
    "binary_list_3 = {key: np.where(i[:, :, 2] < 0.95, 1, np.where(i[:, :, 0] < 0.1, 1, 0)) for key, i in data_hsv.items()}"
   ]
  },
  {
   "cell_type": "code",
   "execution_count": null,
   "metadata": {},
   "outputs": [],
   "source": [
    "image_dict = binary_list_3\n",
    "vmax = 1\n",
    "print_images(image_dict, vmax)"
   ]
  },
  {
   "cell_type": "code",
   "execution_count": null,
   "metadata": {},
   "outputs": [],
   "source": [
    "binary_list_2 = {key: np.where(i[:, :, 2] < 0.95, 1, np.where(i[:, :, 1] > 0.3, 1, 0)) for key, i in data_hsv.items()}\n"
   ]
  },
  {
   "cell_type": "code",
   "execution_count": null,
   "metadata": {},
   "outputs": [],
   "source": [
    "image_dict = binary_list_2\n",
    "vmax = 1\n",
    "print_images(image_dict, vmax)"
   ]
  },
  {
   "cell_type": "code",
   "execution_count": null,
   "metadata": {},
   "outputs": [],
   "source": [
    "binary_list_final = {key: np.where(i[:, :, 2] < 0.95, True, np.where((i[:, :, 0] < 0.1) & (i[:, :, 1] > 0.3), True, False)) for key, i in data_hsv.items()}"
   ]
  },
  {
   "cell_type": "code",
   "execution_count": null,
   "metadata": {},
   "outputs": [],
   "source": [
    "image_dict = binary_list_final\n",
    "vmax = 1\n",
    "print_images(image_dict, vmax)"
   ]
  },
  {
   "cell_type": "markdown",
   "metadata": {},
   "source": [
    "## HSV filter - second round"
   ]
  },
  {
   "cell_type": "code",
   "execution_count": null,
   "metadata": {},
   "outputs": [],
   "source": [
    "binary_list = {key: np.where((i[:, :, 0] < 0.1) | (i[:, :, 0] >0.45), 1, 0) for key, i in data_hsv.items()}"
   ]
  },
  {
   "cell_type": "code",
   "execution_count": null,
   "metadata": {},
   "outputs": [],
   "source": [
    "image_dict = binary_list\n",
    "vmax = 1\n",
    "print_images(image_dict, vmax)"
   ]
  },
  {
   "cell_type": "code",
   "execution_count": null,
   "metadata": {},
   "outputs": [],
   "source": [
    "# Black and blue condition\n",
    "binary_list = {key: np.where((i[:, :, 2] < 0.90) & ((i[:, :, 0] < 0.2) | (i[:, :, 0] > 0.45)), 1, 0) for key, i in data_hsv.items()}"
   ]
  },
  {
   "cell_type": "code",
   "execution_count": null,
   "metadata": {},
   "outputs": [],
   "source": [
    "image_dict = binary_list\n",
    "vmax = 1\n",
    "print_images(image_dict, vmax)"
   ]
  },
  {
   "cell_type": "code",
   "execution_count": null,
   "metadata": {},
   "outputs": [],
   "source": [
    "# Red condition\n",
    "binary_list = {key: np.where((i[:, :, 1] > 0.15) & (i[:, :, 2] > 0.8) & (i[:, :, 0] < 0.05), 1, 0) for key, i in data_hsv.items()}"
   ]
  },
  {
   "cell_type": "code",
   "execution_count": null,
   "metadata": {},
   "outputs": [],
   "source": [
    "image_dict = binary_list\n",
    "vmax = 1\n",
    "print_images(image_dict, vmax)"
   ]
  },
  {
   "cell_type": "code",
   "execution_count": null,
   "metadata": {},
   "outputs": [],
   "source": [
    "binary_list_final = {}\n",
    "for name, i in data_hsv.items():\n",
    "    h, s, v = [i[:, :, band] for band in range(3)]\n",
    "    condition_red = (s > 0.15) & (v > 0.8) & (h < 0.05)\n",
    "    condition_black_blue = (v < 0.9) & ((h < 0.2) | (h > 0.45))\n",
    "\n",
    "    binary_list_final[name] = np.where(condition_black_blue | condition_red, 1, 0, )"
   ]
  },
  {
   "cell_type": "code",
   "execution_count": null,
   "metadata": {},
   "outputs": [],
   "source": [
    "image_dict = binary_list_final\n",
    "vmax = 1\n",
    "print_images(image_dict, vmax)"
   ]
  },
  {
   "cell_type": "markdown",
   "metadata": {},
   "source": [
    "## Test pixels under mask"
   ]
  },
  {
   "cell_type": "code",
   "execution_count": null,
   "metadata": {},
   "outputs": [],
   "source": [
    "filtered_tile_dir = os.path.join(os.path.dirname(TILE_DIR), 'filtered_symbols_2')\n",
    "filtered_images = {}\n",
    "os.makedirs(filtered_tile_dir, exist_ok=True)\n",
    "for name, image in tqdm(image_data.items()):\n",
    "    mask = np.repeat(binary_list_final[name][..., np.newaxis], repeats=3, axis=2)\n",
    "    filtered_images[name] = np.where(mask, image, 0)\n",
    "    with rio.open(os.path.join(filtered_tile_dir, name), 'w', **meta_data[name]) as src:\n",
    "        src.write(filtered_images[name].transpose(2, 0, 1))\n"
   ]
  },
  {
   "cell_type": "code",
   "execution_count": null,
   "metadata": {},
   "outputs": [],
   "source": [
    "image_dict = filtered_images\n",
    "vmax = 255\n",
    "print_images(image_dict, vmax)"
   ]
  },
  {
   "cell_type": "code",
   "execution_count": null,
   "metadata": {},
   "outputs": [],
   "source": [
    "BAND_CORRESPONDENCE = {0: 'R', 1: 'G', 2: 'B'}\n",
    "STAT_LIST = ['min', 'max', 'std', 'mean', 'median']\n",
    "cat_list = ['1b', '1n', '1r', '2b', '3b', '3r', '5n', 'undet']\n",
    "pxl_values_dict = {\n",
    "    0: {cat: [] for cat in cat_list}, \n",
    "    1: {cat: [] for cat in cat_list}, \n",
    "    2: {cat: [] for cat in cat_list}\n",
    "}\n",
    "stats_df_dict = {band: pd.DataFrame() for band in BAND_CORRESPONDENCE.keys()}\n",
    "ratio_stats_df = pd.DataFrame()\n",
    "\n",
    "for name, image in tqdm(image_data.items(), desc=\"Extract pixel values from tiles\"):\n",
    "    category = images_gdf.loc[images_gdf.image_name == name.rstrip('.tif'), 'CATEGORY'].iloc[0]\n",
    "\n",
    "    mask = binary_list_final[name]\n",
    "    if (mask==0).all():\n",
    "        continue\n",
    "\n",
    "    # Polygonize mask\n",
    "    geoms = ((shape(s), v) for s, v in shapes(mask.astype('uint8'), transform = meta_data[name]['transform']) if v == 1)\n",
    "    mask_gdf = gpd.GeoDataFrame(geoms, columns=['geometry', 'class'], crs = meta_data[name]['crs'])\n",
    "    mask_gdf = gpd.GeoDataFrame([name], geometry = [mask_gdf.unary_union], columns=['geometry'], crs = meta_data[name]['crs'])  \n",
    "\n",
    "    for band in BAND_CORRESPONDENCE.keys():\n",
    "        # Get individual pixel value\n",
    "        pxl_values_dict[band][category].extend(image[:, :, band][mask].flatten())\n",
    "\n",
    "        # Get category stats on each image\n",
    "        tmp_stats = zonal_stats(mask_gdf, os.path.join(filtered_tile_dir, name), stats=STAT_LIST, band_num=band+1)\n",
    "        tmp_stats_df = pd.DataFrame.from_records(tmp_stats)\n",
    "        tmp_stats_df['CATEGORY'] = category\n",
    "        tmp_stats_df['image_name'] = name.rstrip('.tif')\n",
    "        if not tmp_stats_df[tmp_stats_df['median'].notna()].empty:\n",
    "            stats_df_dict[band] = pd.concat([stats_df_dict[band], tmp_stats_df[tmp_stats_df['median'].notna()]], ignore_index=True)"
   ]
  },
  {
   "cell_type": "code",
   "execution_count": null,
   "metadata": {},
   "outputs": [],
   "source": [
    "stats_df = pd.DataFrame()\n",
    "for band_nbr, band_letter in BAND_CORRESPONDENCE.items():\n",
    "    tmp_df = stats_df_dict[band_nbr].copy()\n",
    "    tmp_df['band'] = band_letter\n",
    "    stats_df = pd.concat([stats_df, tmp_df], ignore_index=True)\n",
    "stats_df.to_csv(os.path.join(OUTPUT_DIR, 'stats_on_filtered_bands.csv'), index=False)"
   ]
  },
  {
   "cell_type": "code",
   "execution_count": null,
   "metadata": {},
   "outputs": [],
   "source": [
    "for band in tqdm(BAND_CORRESPONDENCE.keys(), desc='Produce boxplots for each band'):\n",
    "    labels, data = [*zip(*pxl_values_dict[band].items())]\n",
    "\n",
    "    plt.boxplot(data)\n",
    "    plt.xticks(range(1, len(labels) + 1), labels)\n",
    "    plt.title(f'Pixel values on the {BAND_CORRESPONDENCE[band]} band')\n",
    "    plt.savefig(os.path.join(OUTPUT_DIR, f'boxplot_filtered_pixels_{BAND_CORRESPONDENCE[band]}.png'), bbox_inches='tight')\n",
    "    plt.close()\n",
    "\n",
    "    for stat in STAT_LIST:\n",
    "        stats_df = stats_df_dict[band].loc[: , ['CATEGORY', stat]].copy()\n",
    "        stats_df.plot.box(by='CATEGORY')\n",
    "        plt.title(f'{stat.title()} on the {BAND_CORRESPONDENCE[band]} band')\n",
    "        plt.savefig(os.path.join(OUTPUT_DIR, f'boxplot_filetered_stats_{BAND_CORRESPONDENCE[band]}_{stat}.png'), bbox_inches='tight')\n",
    "        plt.close()"
   ]
  },
  {
   "cell_type": "markdown",
   "metadata": {},
   "source": [
    "## Improve the color"
   ]
  },
  {
   "cell_type": "code",
   "execution_count": null,
   "metadata": {},
   "outputs": [],
   "source": [
    "from skimage.morphology import binary_closing"
   ]
  },
  {
   "cell_type": "code",
   "execution_count": null,
   "metadata": {},
   "outputs": [],
   "source": [
    "closed_filters = {k: binary_closing(v) for k, v in binary_list_final.items()}"
   ]
  },
  {
   "cell_type": "code",
   "execution_count": null,
   "metadata": {},
   "outputs": [],
   "source": [
    "image_dict = closed_filters\n",
    "vmax = 1\n",
    "print_images(image_dict, vmax)"
   ]
  },
  {
   "cell_type": "markdown",
   "metadata": {},
   "source": [
    "## Change brightness"
   ]
  },
  {
   "cell_type": "code",
   "execution_count": null,
   "metadata": {},
   "outputs": [],
   "source": [
    "gamma_1pt5 = {key: adjust_gamma(v, gamma=1.5) for key, v in image_data.items()}\n",
    "gamma_0pt85 = {key: adjust_gamma(v, gamma=0.85) for key, v in image_data.items()}\n",
    "gamma_0pt75 = {key: adjust_gamma(v, gamma=0.75) for key, v in image_data.items()}\n",
    "gamma_one_half = {key: adjust_gamma(v, gamma=1/2) for key, v in image_data.items()}"
   ]
  },
  {
   "cell_type": "code",
   "execution_count": null,
   "metadata": {},
   "outputs": [],
   "source": [
    "image_dict = gamma_1pt5\n",
    "vmax=255\n",
    "print_images(image_dict, vmax)"
   ]
  },
  {
   "cell_type": "code",
   "execution_count": null,
   "metadata": {},
   "outputs": [],
   "source": [
    "image_dict = image_data\n",
    "vmax=255\n",
    "print_images(image_dict, vmax)"
   ]
  },
  {
   "cell_type": "code",
   "execution_count": null,
   "metadata": {},
   "outputs": [],
   "source": [
    "image_dict = gamma_0pt85\n",
    "vmax=255\n",
    "print_images(image_dict, vmax)"
   ]
  },
  {
   "cell_type": "code",
   "execution_count": null,
   "metadata": {},
   "outputs": [],
   "source": [
    "image_dict = gamma_0pt75\n",
    "vmax=255\n",
    "print_images(image_dict, vmax)"
   ]
  },
  {
   "cell_type": "code",
   "execution_count": null,
   "metadata": {},
   "outputs": [],
   "source": [
    "image_dict = gamma_one_half\n",
    "vmax=255\n",
    "print_images(image_dict, vmax)"
   ]
  },
  {
   "cell_type": "code",
   "execution_count": null,
   "metadata": {},
   "outputs": [],
   "source": [
    "log_default = {key: adjust_log(v) for key, v in image_data.items()}\n",
    "log_two = {key: adjust_log(v, gain=2) for key, v in image_data.items()}\n",
    "log_half = {key: adjust_log(v, gain=0.5) for key, v in image_data.items()}"
   ]
  },
  {
   "cell_type": "code",
   "execution_count": null,
   "metadata": {},
   "outputs": [],
   "source": [
    "image_dict = log_default\n",
    "vmax=255\n",
    "print_images(image_dict, vmax)"
   ]
  },
  {
   "cell_type": "code",
   "execution_count": null,
   "metadata": {},
   "outputs": [],
   "source": [
    "eq_default = {key: equalize_adapthist(v) for key, v in image_data.items()}"
   ]
  },
  {
   "cell_type": "code",
   "execution_count": null,
   "metadata": {},
   "outputs": [],
   "source": [
    "image_dict = eq_default\n",
    "vmax=255\n",
    "print_images(image_dict, vmax)"
   ]
  },
  {
   "cell_type": "code",
   "execution_count": null,
   "metadata": {},
   "outputs": [],
   "source": [
    "eq_gamma_one_half = {key: equalize_adapthist(v, clip_limit=0.003) for key, v in gamma_one_half.items()}\n",
    "image_dict = eq_gamma_one_half\n",
    "vmax=255\n",
    "print_images(image_dict, vmax)"
   ]
  },
  {
   "cell_type": "code",
   "execution_count": null,
   "metadata": {},
   "outputs": [],
   "source": [
    "eq_gamma_one_half = {key: equalize_hist(v) for key, v in gamma_one_half.items()}\n",
    "image_dict = eq_gamma_one_half\n",
    "vmax=255\n",
    "print_images(image_dict, vmax)"
   ]
  },
  {
   "cell_type": "code",
   "execution_count": null,
   "metadata": {},
   "outputs": [],
   "source": [
    "sigm_default = {key: adjust_sigmoid(v) for key, v in image_data.items()}\n",
    "image_dict = sigm_default\n",
    "vmax=255\n",
    "print_images(image_dict, vmax)"
   ]
  },
  {
   "cell_type": "code",
   "execution_count": null,
   "metadata": {},
   "outputs": [],
   "source": [
    "image_data = {}\n",
    "meta_data = {}\n",
    "for tile_path in tile_list:\n",
    "    with rio.open(tile_path) as src:\n",
    "        tile_name = os.path.basename(tile_path)\n",
    "        image_data[tile_name] = src.read().transpose(1, 2, 0)\n",
    "        meta_data[tile_name] = src.meta"
   ]
  },
  {
   "cell_type": "code",
   "execution_count": null,
   "metadata": {},
   "outputs": [],
   "source": [
    "image_dict = image_data\n",
    "vmax=255\n",
    "print_images(image_dict, vmax)"
   ]
  },
  {
   "cell_type": "code",
   "execution_count": null,
   "metadata": {},
   "outputs": [],
   "source": [
    "add_red = {}\n",
    "for key, v in image_data.items():\n",
    "    new_image = np.array(v, copy=False)\n",
    "    new_image[:,:, 1:3] = np.where(new_image[:, :, :1] > 245, new_image[:, :, 1:3]-20, new_image[:, :, 1:3])\n",
    "    add_red[key] = new_image\n",
    "image_dict = add_red\n",
    "vmax=255\n",
    "print_images(image_dict, vmax)"
   ]
  },
  {
   "cell_type": "code",
   "execution_count": null,
   "metadata": {},
   "outputs": [],
   "source": [
    "image_data = {}\n",
    "meta_data = {}\n",
    "for tile_path in tile_list:\n",
    "    with rio.open(tile_path) as src:\n",
    "        tile_name = os.path.basename(tile_path)\n",
    "        image_data[tile_name] = src.read().transpose(1, 2, 0)\n",
    "        meta_data[tile_name] = src.meta"
   ]
  },
  {
   "cell_type": "code",
   "execution_count": null,
   "metadata": {},
   "outputs": [],
   "source": [
    "add_blue = {}\n",
    "for key, v in image_data.items():\n",
    "    new_image = np.array(v, copy=False)\n",
    "    new_image[:,:, 0:2] = np.where((new_image[:, :, :1] > 225) & (new_image[:, :, 1:2] > 225) & (new_image[:, :, 2:3] < 255-20), new_image[:, :, 0:2]-50, new_image[:, :, 0:2])\n",
    "    new_image[:, :, 2:3] = np.where((new_image[:, :, :1] > 225) & (new_image[:, :, 1:2] > 225) & (new_image[:, :, 2:3] < 255-20), new_image[:, :, 2:3]+20, new_image[:, :, 2:3])\n",
    "    add_blue[key] = new_image\n",
    "image_dict = add_blue\n",
    "vmax=255\n",
    "print_images(image_dict, vmax)"
   ]
  },
  {
   "cell_type": "code",
   "execution_count": null,
   "metadata": {},
   "outputs": [],
   "source": []
  },
  {
   "cell_type": "code",
   "execution_count": null,
   "metadata": {},
   "outputs": [],
   "source": [
    "((new_image[:, :, :1] > 245) & (new_image[:,:, 2:3] < 255-20)).shape"
   ]
  },
  {
   "cell_type": "code",
   "execution_count": null,
   "metadata": {},
   "outputs": [],
   "source": []
  }
 ],
 "metadata": {
  "kernelspec": {
   "display_name": "borderpoints",
   "language": "python",
   "name": "python3"
  },
  "language_info": {
   "codemirror_mode": {
    "name": "ipython",
    "version": 3
   },
   "file_extension": ".py",
   "mimetype": "text/x-python",
   "name": "python",
   "nbconvert_exporter": "python",
   "pygments_lexer": "ipython3",
   "version": "3.12.2"
  }
 },
 "nbformat": 4,
 "nbformat_minor": 2
}
