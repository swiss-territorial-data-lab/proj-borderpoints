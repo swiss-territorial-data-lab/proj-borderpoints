{
 "cells": [
  {
   "cell_type": "code",
   "execution_count": null,
   "metadata": {},
   "outputs": [],
   "source": [
    "import os\n",
    "import sys\n",
    "from glob import glob\n",
    "from loguru import logger\n",
    "from yaml import load, FullLoader\n",
    "\n",
    "import rasterio as rio\n",
    "from matplotlib import pyplot as plt\n",
    "from skimage import color\n",
    "from skimage.feature import match_descriptors, plot_matches, SIFT"
   ]
  },
  {
   "cell_type": "code",
   "execution_count": null,
   "metadata": {},
   "outputs": [],
   "source": [
    "sys.path.insert(1,'..')\n",
    "import functions.fct_misc as misc\n",
    "from functions.fct_rasters import remove_black_border\n",
    "\n",
    "logger = misc.format_logger(logger)"
   ]
  },
  {
   "cell_type": "markdown",
   "metadata": {},
   "source": [
    "# Processing"
   ]
  },
  {
   "cell_type": "markdown",
   "metadata": {},
   "source": [
    "Load data"
   ]
  },
  {
   "cell_type": "code",
   "execution_count": null,
   "metadata": {},
   "outputs": [],
   "source": [
    "with open('../../config/config_symbol_classif.yaml') as fp:\n",
    "    cfg = load(fp, Loader=FullLoader)['test_notebooks.py']"
   ]
  },
  {
   "cell_type": "code",
   "execution_count": null,
   "metadata": {},
   "outputs": [],
   "source": [
    "WORKING_DIR = cfg['working_dir']\n",
    "OUTPUT_DIR = cfg['output_dir']\n",
    "TILE_DIR = cfg['tile_dir']"
   ]
  },
  {
   "cell_type": "code",
   "execution_count": null,
   "metadata": {},
   "outputs": [],
   "source": [
    "os.chdir(WORKING_DIR)\n",
    "os.makedirs(OUTPUT_DIR, exist_ok=True)"
   ]
  },
  {
   "cell_type": "code",
   "execution_count": null,
   "metadata": {},
   "outputs": [],
   "source": [
    "logger.info('Read data...')\n",
    "tile_list = glob(os.path.join(TILE_DIR, '*.tif'))"
   ]
  },
  {
   "cell_type": "markdown",
   "metadata": {},
   "source": [
    "Prepare data"
   ]
  },
  {
   "cell_type": "code",
   "execution_count": null,
   "metadata": {},
   "outputs": [],
   "source": [
    "image_data = {}\n",
    "for tile_path in tile_list:\n",
    "    with rio.open(tile_path) as src:\n",
    "        image_data[os.path.basename(tile_path)] = src.read().transpose(1, 2, 0)"
   ]
  },
  {
   "cell_type": "code",
   "execution_count": null,
   "metadata": {},
   "outputs": [],
   "source": [
    "data_gray = {key: color.rgb2gray(i) for key, i in image_data.items()}"
   ]
  },
  {
   "cell_type": "markdown",
   "metadata": {},
   "source": [
    "Perform SIFT"
   ]
  },
  {
   "cell_type": "code",
   "execution_count": null,
   "metadata": {},
   "outputs": [],
   "source": [
    "descriptor_extractor = SIFT(n_octaves=1, n_scales=1, n_bins=50)\n",
    "keypoints = {}\n",
    "descriptors = {}\n",
    "for name, image in data_gray.items():\n",
    "    try:\n",
    "        descriptor_extractor.detect_and_extract(image)\n",
    "    except RuntimeError as e:\n",
    "        if 'SIFT found no features.' in str(e):\n",
    "            continue\n",
    "        else:\n",
    "            raise\n",
    "    keypoints[name] = descriptor_extractor.keypoints\n",
    "    descriptors[name] = descriptor_extractor.descriptors"
   ]
  },
  {
   "cell_type": "code",
   "execution_count": null,
   "metadata": {},
   "outputs": [],
   "source": [
    "test_match_self = match_descriptors(descriptors['0_2570184_1148461.tif'], descriptors['0_2570184_1148461.tif'], max_ratio=0.8, cross_check=True)"
   ]
  },
  {
   "cell_type": "code",
   "execution_count": null,
   "metadata": {},
   "outputs": [],
   "source": [
    "test_match_010 = match_descriptors(descriptors['0_2570184_1148461.tif'], descriptors['10_2580845_1165703.tif'], max_ratio=0.99, cross_check=True)"
   ]
  },
  {
   "cell_type": "code",
   "execution_count": null,
   "metadata": {},
   "outputs": [],
   "source": [
    "test_match_05 = match_descriptors(descriptors['0_2570184_1148461.tif'], descriptors['5_2569300_1148156.tif'], max_ratio=0.99, cross_check=True)"
   ]
  },
  {
   "cell_type": "code",
   "execution_count": null,
   "metadata": {},
   "outputs": [],
   "source": [
    "test_match_04 = match_descriptors(descriptors['0_2570184_1148461.tif'], descriptors['4_2569483_1149035.tif'], max_ratio=0.99, cross_check=True)"
   ]
  },
  {
   "cell_type": "code",
   "execution_count": null,
   "metadata": {},
   "outputs": [],
   "source": [
    "test_match_1b = match_descriptors(descriptors['2_2571560_1150039.tif'], descriptors['2_2571712_1150164.tif'], max_ratio=0.99, cross_check=True)\n"
   ]
  },
  {
   "cell_type": "code",
   "execution_count": null,
   "metadata": {},
   "outputs": [],
   "source": [
    "test_match_110 = match_descriptors(descriptors['1_2571614_1152259.tif'], descriptors['10_2580845_1165703.tif'], max_ratio=0.8, cross_check=True)"
   ]
  },
  {
   "cell_type": "code",
   "execution_count": null,
   "metadata": {},
   "outputs": [],
   "source": [
    "fig, ax = plt.subplots(nrows=2, ncols=3, figsize=(8, 5))\n",
    "\n",
    "plot_matches(ax[0, 0], data_gray['0_2570184_1148461.tif'], data_gray['0_2570184_1148461.tif'], keypoints['0_2570184_1148461.tif'], keypoints['0_2570184_1148461.tif'], test_match_self)\n",
    "ax[0, 0].axis('off')\n",
    "ax[0, 0].set_title(\"Blue marker vs. self\")\n",
    "\n",
    "plot_matches(ax[0, 1], data_gray['0_2570184_1148461.tif'], data_gray['10_2580845_1165703.tif'], keypoints['0_2570184_1148461.tif'], keypoints['10_2580845_1165703.tif'], test_match_010)\n",
    "ax[0, 1].axis('off')\n",
    "ax[0, 1].set_title(\"Blue marker vs. blue marker\")\n",
    "\n",
    "plot_matches(ax[0, 2], data_gray['2_2571560_1150039.tif'], data_gray['2_2571712_1150164.tif'], keypoints['2_2571560_1150039.tif'], keypoints['2_2571712_1150164.tif'], test_match_010)\n",
    "ax[0, 2].axis('off')\n",
    "ax[0, 2].set_title(\"Black marker vs. black marker\\n\" \"from the same image\")\n",
    "\n",
    "\n",
    "plot_matches(ax[1, 0], data_gray['0_2570184_1148461.tif'], data_gray['5_2569300_1148156.tif'], keypoints['0_2570184_1148461.tif'], keypoints['5_2569300_1148156.tif'], test_match_05)\n",
    "ax[1, 0].axis('off')\n",
    "ax[1, 0].set_title(\"Blue marker vs. blue marker\\n\" \" turned into a cross\")\n",
    "\n",
    "plot_matches(ax[1, 1], data_gray['0_2570184_1148461.tif'], data_gray['4_2569483_1149035.tif'], keypoints['0_2570184_1148461.tif'], keypoints['4_2569483_1149035.tif'], test_match_04)\n",
    "ax[1, 1].axis('off')\n",
    "ax[1, 1].set_title(\"Blue marker vs. blue cross\")\n",
    "\n",
    "\n",
    "plot_matches(ax[1, 2], data_gray['1_2571614_1152259.tif'], data_gray['10_2580845_1165703.tif'], keypoints['1_2571614_1152259.tif'], keypoints['10_2580845_1165703.tif'], test_match_010)\n",
    "ax[1, 2].axis('off')\n",
    "ax[1, 2].set_title(\"Blue marker vs. black marker\")\n",
    "\n",
    "plt.tight_layout()"
   ]
  },
  {
   "cell_type": "code",
   "execution_count": null,
   "metadata": {},
   "outputs": [],
   "source": []
  }
 ],
 "metadata": {
  "kernelspec": {
   "display_name": "borderpoints",
   "language": "python",
   "name": "python3"
  },
  "language_info": {
   "codemirror_mode": {
    "name": "ipython",
    "version": 3
   },
   "file_extension": ".py",
   "mimetype": "text/x-python",
   "name": "python",
   "nbconvert_exporter": "python",
   "pygments_lexer": "ipython3",
   "version": "3.12.2"
  }
 },
 "nbformat": 4,
 "nbformat_minor": 2
}
