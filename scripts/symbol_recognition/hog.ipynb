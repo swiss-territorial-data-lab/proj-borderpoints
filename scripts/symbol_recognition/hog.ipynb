{
 "cells": [
  {
   "cell_type": "code",
   "execution_count": null,
   "metadata": {},
   "outputs": [],
   "source": [
    "import os\n",
    "import sys\n",
    "from argparse import ArgumentParser\n",
    "from glob import glob\n",
    "from loguru import logger\n",
    "from time import time\n",
    "from tqdm import tqdm\n",
    "from yaml import load, FullLoader\n",
    "\n",
    "import numpy as np\n",
    "import rasterio as rio\n",
    "from matplotlib import pyplot as plt\n",
    "from skimage import color\n",
    "from skimage.feature import hog, match_descriptors, plot_matches, SIFT\n",
    "from sklearn import svm\n",
    "from sklearn.metrics import classification_report,accuracy_score\n",
    "\n",
    "from math import floor"
   ]
  },
  {
   "cell_type": "code",
   "execution_count": null,
   "metadata": {},
   "outputs": [],
   "source": [
    "sys.path.insert(1,'..')\n",
    "import functions.fct_misc as misc\n",
    "\n",
    "logger = misc.format_logger(logger)"
   ]
  },
  {
   "cell_type": "markdown",
   "metadata": {},
   "source": [
    "## Functions"
   ]
  },
  {
   "cell_type": "code",
   "execution_count": null,
   "metadata": {},
   "outputs": [],
   "source": [
    "def im_list_to_hog(im_list, channel_axis=None):\n",
    "    hog_images = {}\n",
    "    hog_features = {}\n",
    "    for name, image in im_list.items():\n",
    "        ppc = floor(min(image.shape)/8)\n",
    "        fd, hog_image = hog(image, orientations=8, pixels_per_cell=(ppc,ppc), cells_per_block=(4, 4), block_norm= 'L2', visualize=True, channel_axis=channel_axis)\n",
    "        hog_images[name] = hog_image\n",
    "        hog_features[name] = fd\n",
    "\n",
    "    return hog_images, hog_features"
   ]
  },
  {
   "cell_type": "markdown",
   "metadata": {},
   "source": [
    "## Processing"
   ]
  },
  {
   "cell_type": "markdown",
   "metadata": {},
   "source": [
    "Argument and parameter specification"
   ]
  },
  {
   "cell_type": "code",
   "execution_count": null,
   "metadata": {},
   "outputs": [],
   "source": [
    "with open('../../config/config_symbol_classif.yaml') as fp:\n",
    "    cfg = load(fp, Loader=FullLoader)['hog.py']"
   ]
  },
  {
   "cell_type": "markdown",
   "metadata": {},
   "source": [
    "Load input parameters"
   ]
  },
  {
   "cell_type": "code",
   "execution_count": null,
   "metadata": {},
   "outputs": [],
   "source": [
    "WORKING_DIR = cfg['working_dir']\n",
    "OUTPUT_DIR = cfg['output_dir']\n",
    "TILE_DIR = cfg['tile_dir']"
   ]
  },
  {
   "cell_type": "code",
   "execution_count": null,
   "metadata": {},
   "outputs": [],
   "source": [
    "os.chdir(WORKING_DIR)\n",
    "os.makedirs(OUTPUT_DIR, exist_ok=True)"
   ]
  },
  {
   "cell_type": "code",
   "execution_count": null,
   "metadata": {},
   "outputs": [],
   "source": [
    "logger.info('Read data...')\n",
    "tile_list = glob(os.path.join(TILE_DIR, '*.tif'))"
   ]
  },
  {
   "cell_type": "code",
   "execution_count": null,
   "metadata": {},
   "outputs": [],
   "source": [
    "image_data = {}\n",
    "for tile_path in tile_list:\n",
    "    with rio.open(tile_path) as src:\n",
    "        image_data[os.path.basename(tile_path)] = src.read().transpose(1, 2, 0)"
   ]
  },
  {
   "cell_type": "code",
   "execution_count": null,
   "metadata": {},
   "outputs": [],
   "source": [
    "image_dict = image_data\n",
    "f, axarr = plt.subplots(3,3)\n",
    "axarr[0,0].imshow(image_dict['0_2570184_1148461.tif'])\n",
    "axarr[0,1].imshow(image_dict['4_2569767_1149331.tif'])\n",
    "axarr[0,2].imshow(image_dict['1_2571614_1152259.tif'])\n",
    "axarr[1,0].imshow(image_dict['5_2569300_1148157.tif'])\n",
    "axarr[1,1].imshow(image_dict['0_2570190_1148492.tif'])\n",
    "axarr[1,2].imshow(image_dict['10_2580845_1165703.tif'])\n",
    "axarr[2,0].imshow(image_dict['4_2569484_1149035.tif'])\n",
    "axarr[2,1].imshow(image_dict['5_2569282_1148151.tif'])\n",
    "axarr[2,2].imshow(image_dict['6_2567727_1147671.tif'])"
   ]
  },
  {
   "cell_type": "code",
   "execution_count": null,
   "metadata": {},
   "outputs": [],
   "source": [
    "data_gray = {key: color.rgb2gray(i) for key, i in image_data.items()}"
   ]
  },
  {
   "cell_type": "code",
   "execution_count": null,
   "metadata": {},
   "outputs": [],
   "source": [
    "image_dict = data_gray\n",
    "vmin = 0\n",
    "vmax = 1\n",
    "f, axarr = plt.subplots(3,3)\n",
    "axarr[0,0].imshow(image_dict['0_2570184_1148461.tif'], vmin=0, vmax=vmax)\n",
    "axarr[0,1].imshow(image_dict['4_2569767_1149331.tif'], vmin=0, vmax=vmax)\n",
    "axarr[0,2].imshow(image_dict['1_2571614_1152259.tif'], vmin=0, vmax=vmax)\n",
    "axarr[1,0].imshow(image_dict['5_2569300_1148157.tif'], vmin=0, vmax=vmax)\n",
    "axarr[1,1].imshow(image_dict['0_2570190_1148492.tif'], vmin=0, vmax=vmax)\n",
    "axarr[1,2].imshow(image_dict['10_2580845_1165703.tif'], vmin=0, vmax=vmax)\n",
    "axarr[2,0].imshow(image_dict['4_2569484_1149035.tif'], vmin=0, vmax=vmax)\n",
    "axarr[2,1].imshow(image_dict['5_2569282_1148151.tif'], vmin=0, vmax=vmax)\n",
    "axarr[2,2].imshow(image_dict['6_2567727_1147671.tif'], vmin=0, vmax=vmax)"
   ]
  },
  {
   "cell_type": "code",
   "execution_count": null,
   "metadata": {},
   "outputs": [],
   "source": [
    "data_ratio = {key: np.divide(i[:,:, 2], i[:,:, 0], out=i[:,:, 2].astype(np.float64), where=i[:,:, 0]!=0) for key, i in image_data.items()}"
   ]
  },
  {
   "cell_type": "code",
   "execution_count": null,
   "metadata": {},
   "outputs": [],
   "source": [
    "norm_data_ratio = {key: (i-np.min(i))/(np.max(i)-np.min(i))*255 for key, i in data_ratio.items()}"
   ]
  },
  {
   "cell_type": "code",
   "execution_count": null,
   "metadata": {},
   "outputs": [],
   "source": [
    "image_dict = data_ratio\n",
    "f, axarr = plt.subplots(3,3)\n",
    "axarr[0,0].imshow(image_dict['0_2570184_1148461.tif'], vmin=0, vmax=image_dict['0_2570184_1148461.tif'].max())\n",
    "axarr[0,1].imshow(image_dict['4_2569767_1149331.tif'], vmin=0, vmax=image_dict['4_2569767_1149331.tif'].max())\n",
    "axarr[0,2].imshow(image_dict['1_2571614_1152259.tif'], vmin=0, vmax=image_dict['1_2571614_1152259.tif'].max())\n",
    "axarr[1,0].imshow(image_dict['5_2569300_1148157.tif'], vmin=0, vmax=image_dict['5_2569300_1148157.tif'].max())\n",
    "axarr[1,1].imshow(image_dict['0_2570190_1148492.tif'], vmin=0, vmax=image_dict['0_2570190_1148492.tif'].max())\n",
    "axarr[1,2].imshow(image_dict['10_2580845_1165703.tif'], vmin=0, vmax=image_dict['10_2580845_1165703.tif'].max())\n",
    "axarr[2,0].imshow(image_dict['4_2569484_1149035.tif'], vmin=0, vmax=image_dict['4_2569484_1149035.tif'].max())\n",
    "axarr[2,1].imshow(image_dict['5_2569282_1148151.tif'], vmin=0, vmax=image_dict['5_2569282_1148151.tif'].max())\n",
    "axarr[2,2].imshow(image_dict['6_2567727_1147671.tif'], vmin=0, vmax=image_dict['6_2567727_1147671.tif'].max())"
   ]
  },
  {
   "cell_type": "code",
   "execution_count": null,
   "metadata": {},
   "outputs": [],
   "source": [
    "image_dict = norm_data_ratio\n",
    "v_max = 255\n",
    "f, axarr = plt.subplots(3,3)\n",
    "axarr[0,0].imshow(image_dict['0_2570184_1148461.tif'], vmin=0, vmax=v_max)\n",
    "axarr[0,1].imshow(image_dict['4_2569767_1149331.tif'], vmin=0, vmax=v_max)\n",
    "axarr[0,2].imshow(image_dict['1_2571614_1152259.tif'], vmin=0, vmax=v_max)\n",
    "axarr[1,0].imshow(image_dict['5_2569300_1148157.tif'], vmin=0, vmax=v_max)\n",
    "axarr[1,1].imshow(image_dict['0_2570190_1148492.tif'], vmin=0, vmax=v_max)\n",
    "axarr[1,2].imshow(image_dict['10_2580845_1165703.tif'], vmin=0, vmax=v_max)\n",
    "axarr[2,0].imshow(image_dict['4_2569484_1149035.tif'], vmin=0, vmax=v_max)\n",
    "axarr[2,1].imshow(image_dict['5_2569282_1148151.tif'], vmin=0, vmax=v_max)\n",
    "axarr[2,2].imshow(image_dict['6_2567727_1147671.tif'], vmin=0, vmax=v_max)"
   ]
  },
  {
   "cell_type": "code",
   "execution_count": null,
   "metadata": {},
   "outputs": [],
   "source": [
    "np.histogram(data_ratio['10_2580845_1165703.tif'], bins=25)"
   ]
  },
  {
   "cell_type": "code",
   "execution_count": null,
   "metadata": {},
   "outputs": [],
   "source": [
    "np.histogram(norm_data_ratio['10_2580845_1165703.tif'], bins=50)"
   ]
  },
  {
   "cell_type": "code",
   "execution_count": null,
   "metadata": {},
   "outputs": [],
   "source": [
    "np.unique(data_ratio['10_2580845_1165703.tif'])[-2]"
   ]
  },
  {
   "cell_type": "code",
   "execution_count": null,
   "metadata": {},
   "outputs": [],
   "source": [
    "image_dict = norm_data_ratio\n",
    "v_max = 255\n",
    "f, axarr = plt.subplots(3,3)\n",
    "axarr[0,0].imshow(image_dict['0_2570184_1148461.tif'], vmin=0, vmax=v_max)\n",
    "axarr[0,1].imshow(image_dict['4_2569767_1149331.tif'], vmin=0, vmax=v_max)\n",
    "axarr[0,2].imshow(image_dict['1_2571614_1152259.tif'], vmin=0, vmax=v_max)\n",
    "axarr[1,0].imshow(image_dict['5_2569300_1148157.tif'], vmin=0, vmax=v_max)\n",
    "axarr[1,1].imshow(image_dict['0_2570190_1148492.tif'], vmin=0, vmax=v_max)\n",
    "axarr[1,2].imshow(image_dict['10_2580845_1165703.tif'], vmin=0, vmax=5)\n",
    "axarr[2,0].imshow(image_dict['4_2569484_1149035.tif'], vmin=0, vmax=v_max)\n",
    "axarr[2,1].imshow(image_dict['5_2569282_1148151.tif'], vmin=0, vmax=v_max)\n",
    "axarr[2,2].imshow(image_dict['6_2567727_1147671.tif'], vmin=0, vmax=v_max)"
   ]
  },
  {
   "cell_type": "code",
   "execution_count": null,
   "metadata": {},
   "outputs": [],
   "source": [
    "# Normalized based on the second highest value\n",
    "second_norm_data = {key: np.divide((i-np.min(i)), (np.unique(i)[-2]-np.min(i)), out=np.ones_like(i), where=i<=np.unique(i)[-2])*255 for key, i in data_ratio.items()}"
   ]
  },
  {
   "cell_type": "code",
   "execution_count": null,
   "metadata": {},
   "outputs": [],
   "source": [
    "np.histogram(second_norm_data['10_2580845_1165703.tif'], bins=50)"
   ]
  },
  {
   "cell_type": "code",
   "execution_count": null,
   "metadata": {},
   "outputs": [],
   "source": [
    "image_dict = second_norm_data\n",
    "v_max = 255\n",
    "f, axarr = plt.subplots(3,3)\n",
    "axarr[0,0].imshow(image_dict['0_2570184_1148461.tif'])\n",
    "axarr[0,1].imshow(image_dict['4_2569767_1149331.tif'])\n",
    "axarr[0,2].imshow(image_dict['1_2571614_1152259.tif'])\n",
    "axarr[1,0].imshow(image_dict['5_2569300_1148157.tif'])\n",
    "axarr[1,1].imshow(image_dict['0_2570190_1148492.tif'])\n",
    "axarr[1,2].imshow(image_dict['10_2580845_1165703.tif'])\n",
    "axarr[2,0].imshow(image_dict['4_2569484_1149035.tif'])\n",
    "axarr[2,1].imshow(image_dict['5_2569282_1148151.tif'])\n",
    "axarr[2,2].imshow(image_dict['6_2567727_1147671.tif'])"
   ]
  },
  {
   "cell_type": "code",
   "execution_count": null,
   "metadata": {},
   "outputs": [],
   "source": [
    "# Normalized all value between 0 and 2 to a range of 0 to 255\n",
    "third_norm_data = {key: np.divide((i-np.min(i)), (2-np.min(i)), out=np.ones_like(i), where=i<2)*255 for key, i in data_ratio.items()}"
   ]
  },
  {
   "cell_type": "code",
   "execution_count": null,
   "metadata": {},
   "outputs": [],
   "source": [
    "np.histogram(third_norm_data['6_2567727_1147671.tif'], bins=50)"
   ]
  },
  {
   "cell_type": "code",
   "execution_count": null,
   "metadata": {},
   "outputs": [],
   "source": [
    "image_dict = third_norm_data\n",
    "v_max = 255\n",
    "f, axarr = plt.subplots(3,3)\n",
    "axarr[0,0].imshow(image_dict['0_2570184_1148461.tif'], vmin=0, vmax=v_max)\n",
    "axarr[0,1].imshow(image_dict['4_2569767_1149331.tif'], vmin=0, vmax=v_max)\n",
    "axarr[0,2].imshow(image_dict['1_2571614_1152259.tif'], vmin=0, vmax=v_max)\n",
    "axarr[1,0].imshow(image_dict['5_2569300_1148157.tif'], vmin=0, vmax=v_max)\n",
    "axarr[1,1].imshow(image_dict['0_2570190_1148492.tif'], vmin=0, vmax=v_max)\n",
    "axarr[1,2].imshow(image_dict['10_2580845_1165703.tif'], vmin=0, vmax=v_max)\n",
    "axarr[2,0].imshow(image_dict['4_2569484_1149035.tif'], vmin=0, vmax=v_max)\n",
    "axarr[2,1].imshow(image_dict['5_2569282_1148151.tif'], vmin=0, vmax=v_max)\n",
    "axarr[2,2].imshow(image_dict['6_2567727_1147671.tif'], vmin=0, vmax=v_max)"
   ]
  },
  {
   "cell_type": "markdown",
   "metadata": {},
   "source": [
    "### Hog on scaled data"
   ]
  },
  {
   "cell_type": "code",
   "execution_count": null,
   "metadata": {},
   "outputs": [],
   "source": [
    "hog_scaled_images, hog_scaled_features = im_list_to_hog(third_norm_data)"
   ]
  },
  {
   "cell_type": "code",
   "execution_count": null,
   "metadata": {},
   "outputs": [],
   "source": [
    "np.histogram(hog_scaled_images['6_2567727_1147671.tif'], bins=50)"
   ]
  },
  {
   "cell_type": "code",
   "execution_count": null,
   "metadata": {},
   "outputs": [],
   "source": [
    "image_dict = hog_scaled_images\n",
    "v_max = 25\n",
    "f, axarr = plt.subplots(3,3)\n",
    "axarr[0,0].imshow(image_dict['0_2570184_1148461.tif'], vmin=0, vmax=v_max)\n",
    "axarr[0,1].imshow(image_dict['4_2569767_1149331.tif'], vmin=0, vmax=v_max)\n",
    "axarr[0,2].imshow(image_dict['1_2571614_1152259.tif'], vmin=0, vmax=v_max)\n",
    "axarr[1,0].imshow(image_dict['5_2569300_1148157.tif'], vmin=0, vmax=v_max)\n",
    "axarr[1,1].imshow(image_dict['0_2570190_1148492.tif'], vmin=0, vmax=v_max)\n",
    "axarr[1,2].imshow(image_dict['10_2580845_1165703.tif'], vmin=0, vmax=v_max)\n",
    "axarr[2,0].imshow(image_dict['4_2569484_1149035.tif'], vmin=0, vmax=v_max)\n",
    "axarr[2,1].imshow(image_dict['5_2569282_1148151.tif'], vmin=0, vmax=v_max)\n",
    "axarr[2,2].imshow(image_dict['6_2567727_1147671.tif'], vmin=0, vmax=v_max)"
   ]
  },
  {
   "cell_type": "markdown",
   "metadata": {},
   "source": [
    "### HOG on grey images"
   ]
  },
  {
   "cell_type": "code",
   "execution_count": null,
   "metadata": {},
   "outputs": [],
   "source": [
    "hog_gray_images, hog_gray_features = im_list_to_hog(data_gray)"
   ]
  },
  {
   "cell_type": "code",
   "execution_count": null,
   "metadata": {},
   "outputs": [],
   "source": [
    "np.histogram(hog_gray_images['6_2567727_1147671.tif'], bins=50)"
   ]
  },
  {
   "cell_type": "code",
   "execution_count": null,
   "metadata": {},
   "outputs": [],
   "source": [
    "image_dict = hog_gray_images\n",
    "v_max = 0.25\n",
    "f, axarr = plt.subplots(3,3)\n",
    "axarr[0,0].imshow(image_dict['0_2570184_1148461.tif'], vmin=0, vmax=v_max)\n",
    "axarr[0,1].imshow(image_dict['4_2569767_1149331.tif'], vmin=0, vmax=v_max)\n",
    "axarr[0,2].imshow(image_dict['1_2571614_1152259.tif'], vmin=0, vmax=v_max)\n",
    "axarr[1,0].imshow(image_dict['5_2569300_1148157.tif'], vmin=0, vmax=v_max)\n",
    "axarr[1,1].imshow(image_dict['0_2570190_1148492.tif'], vmin=0, vmax=v_max)\n",
    "axarr[1,2].imshow(image_dict['10_2580845_1165703.tif'], vmin=0, vmax=v_max)\n",
    "axarr[2,0].imshow(image_dict['4_2569484_1149035.tif'], vmin=0, vmax=v_max)\n",
    "axarr[2,1].imshow(image_dict['5_2569282_1148151.tif'], vmin=0, vmax=v_max)\n",
    "axarr[2,2].imshow(image_dict['6_2567727_1147671.tif'], vmin=0, vmax=v_max)"
   ]
  },
  {
   "cell_type": "code",
   "execution_count": null,
   "metadata": {},
   "outputs": [],
   "source": [
    "test_list = [len(ft) for ft in hog_gray_features.values()]\n",
    "(min(test_list), max(test_list))"
   ]
  },
  {
   "cell_type": "markdown",
   "metadata": {},
   "source": [
    "### Scale-invariant features on scale data"
   ]
  },
  {
   "cell_type": "code",
   "execution_count": null,
   "metadata": {},
   "outputs": [],
   "source": [
    "descriptor_extractor = SIFT(n_octaves=1, n_scales=1, n_bins=50)\n",
    "keypoints = {}\n",
    "descriptors = {}\n",
    "for name, image in third_norm_data.items():\n",
    "    try:\n",
    "        descriptor_extractor.detect_and_extract(image)\n",
    "    except RuntimeError as e:\n",
    "        if 'SIFT found no features.' in str(e):\n",
    "            continue\n",
    "        else:\n",
    "            raise\n",
    "    keypoints[name] = descriptor_extractor.keypoints\n",
    "    descriptors[name] = descriptor_extractor.descriptors"
   ]
  },
  {
   "cell_type": "code",
   "execution_count": null,
   "metadata": {},
   "outputs": [],
   "source": [
    "test_match_self = match_descriptors(descriptors['0_2570184_1148461.tif'], descriptors['0_2570184_1148461.tif'], max_ratio=0.8, cross_check=True)"
   ]
  },
  {
   "cell_type": "code",
   "execution_count": null,
   "metadata": {},
   "outputs": [],
   "source": [
    "test_match_010 = match_descriptors(descriptors['0_2570184_1148461.tif'], descriptors['10_2580845_1165703.tif'], max_ratio=0.99, cross_check=True)"
   ]
  },
  {
   "cell_type": "code",
   "execution_count": null,
   "metadata": {},
   "outputs": [],
   "source": [
    "test_match_05 = match_descriptors(descriptors['0_2570184_1148461.tif'], descriptors['5_2569300_1148157.tif'], max_ratio=0.99, cross_check=True)"
   ]
  },
  {
   "cell_type": "code",
   "execution_count": null,
   "metadata": {},
   "outputs": [],
   "source": [
    "test_match_04 = match_descriptors(descriptors['0_2570184_1148461.tif'], descriptors['4_2569484_1149035.tif'], max_ratio=0.99, cross_check=True)"
   ]
  },
  {
   "cell_type": "code",
   "execution_count": null,
   "metadata": {},
   "outputs": [],
   "source": [
    "test_match_1b = match_descriptors(descriptors['2_2571561_1150040.tif'], descriptors['2_2571713_1150165.tif'], max_ratio=0.99, cross_check=True)\n"
   ]
  },
  {
   "cell_type": "code",
   "execution_count": null,
   "metadata": {},
   "outputs": [],
   "source": [
    "test_match_110 = match_descriptors(descriptors['1_2571614_1152259.tif'], descriptors['10_2580845_1165703.tif'], max_ratio=0.8, cross_check=True)"
   ]
  },
  {
   "cell_type": "code",
   "execution_count": null,
   "metadata": {},
   "outputs": [],
   "source": [
    "fig, ax = plt.subplots(nrows=2, ncols=3, figsize=(8, 5))\n",
    "\n",
    "plot_matches(ax[0, 0], third_norm_data['0_2570184_1148461.tif'], third_norm_data['0_2570184_1148461.tif'], keypoints['0_2570184_1148461.tif'], keypoints['0_2570184_1148461.tif'], test_match_self)\n",
    "ax[0, 0].axis('off')\n",
    "ax[0, 0].set_title(\"Blue marker vs. self\\n\" \"(all keypoints and matches)\")\n",
    "\n",
    "plot_matches(ax[0, 1], third_norm_data['0_2570184_1148461.tif'], third_norm_data['10_2580845_1165703.tif'], keypoints['0_2570184_1148461.tif'], keypoints['10_2580845_1165703.tif'], test_match_010)\n",
    "ax[0, 1].axis('off')\n",
    "ax[0, 1].set_title(\"Blue marker vs. blue marker\")\n",
    "\n",
    "plot_matches(ax[0, 2], third_norm_data['2_2571561_1150040.tif'], third_norm_data['2_2571713_1150165.tif'], keypoints['2_2571561_1150040.tif'], keypoints['2_2571713_1150165.tif'], test_match_010)\n",
    "ax[0, 2].axis('off')\n",
    "ax[0, 2].set_title(\"Black marker vs. black marker\\n\" \"from the same image\")\n",
    "\n",
    "\n",
    "plot_matches(ax[1, 0], third_norm_data['0_2570184_1148461.tif'], third_norm_data['5_2569300_1148157.tif'], keypoints['0_2570184_1148461.tif'], keypoints['5_2569300_1148157.tif'], test_match_05)\n",
    "ax[1, 0].axis('off')\n",
    "ax[1, 0].set_title(\"Blue marker vs. blue marker\\n\" \" turned into a cross\")\n",
    "\n",
    "plot_matches(ax[1, 1], third_norm_data['0_2570184_1148461.tif'], third_norm_data['4_2569484_1149035.tif'], keypoints['0_2570184_1148461.tif'], keypoints['4_2569484_1149035.tif'], test_match_04)\n",
    "ax[1, 1].axis('off')\n",
    "ax[1, 1].set_title(\"Blue marker vs. blue cross\")\n",
    "\n",
    "\n",
    "plot_matches(ax[1, 2], third_norm_data['1_2571614_1152259.tif'], third_norm_data['10_2580845_1165703.tif'], keypoints['1_2571614_1152259.tif'], keypoints['10_2580845_1165703.tif'], test_match_010)\n",
    "ax[1, 2].axis('off')\n",
    "ax[1, 2].set_title(\"Blue marker vs. black marker\")\n",
    "\n",
    "plt.tight_layout()"
   ]
  },
  {
   "cell_type": "code",
   "execution_count": null,
   "metadata": {},
   "outputs": [],
   "source": []
  },
  {
   "cell_type": "code",
   "execution_count": null,
   "metadata": {},
   "outputs": [],
   "source": []
  }
 ],
 "metadata": {
  "kernelspec": {
   "display_name": "borderpoints",
   "language": "python",
   "name": "python3"
  },
  "language_info": {
   "codemirror_mode": {
    "name": "ipython",
    "version": 3
   },
   "file_extension": ".py",
   "mimetype": "text/x-python",
   "name": "python",
   "nbconvert_exporter": "python",
   "pygments_lexer": "ipython3",
   "version": "3.12.2"
  }
 },
 "nbformat": 4,
 "nbformat_minor": 2
}
