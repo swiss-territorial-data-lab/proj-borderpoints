{
 "cells": [
  {
   "cell_type": "code",
   "execution_count": null,
   "metadata": {},
   "outputs": [],
   "source": [
    "import os\n",
    "import sys\n",
    "from glob import glob\n",
    "from loguru import logger\n",
    "from yaml import load, FullLoader\n",
    "\n",
    "import pandas as pd\n",
    "import numpy as np\n",
    "import rasterio as rio\n",
    "from matplotlib import pyplot as plt\n",
    "from skimage import color\n",
    "from skimage.feature import hog\n",
    "from skimage.transform import resize\n",
    "\n",
    "from collections import Counter\n",
    "from math import floor\n"
   ]
  },
  {
   "cell_type": "code",
   "execution_count": null,
   "metadata": {},
   "outputs": [],
   "source": [
    "sys.path.insert(1,'..')\n",
    "import functions.fct_misc as misc\n",
    "from functions.fct_rasters import remove_black_border\n",
    "\n",
    "logger = misc.format_logger(logger)"
   ]
  },
  {
   "cell_type": "markdown",
   "metadata": {},
   "source": [
    "## Functions"
   ]
  },
  {
   "cell_type": "code",
   "execution_count": null,
   "metadata": {},
   "outputs": [],
   "source": [
    "def im_list_to_hog(im_list, channel_axis=None):\n",
    "    hog_images = {}\n",
    "    hog_features = {}\n",
    "    for name, image in im_list.items():\n",
    "        ppc = floor(min(image.shape)/6)\n",
    "        fd, hog_image = hog(image, orientations=4, pixels_per_cell=(ppc,ppc), cells_per_block=(4, 4), block_norm= 'L2', visualize=True, channel_axis=channel_axis)\n",
    "        hog_images[name] = hog_image\n",
    "        hog_features[name] = fd\n",
    "\n",
    "    return hog_images, hog_features"
   ]
  },
  {
   "cell_type": "code",
   "execution_count": null,
   "metadata": {},
   "outputs": [],
   "source": [
    "def print_images(image_dict, v_max):\n",
    "    f, axarr = plt.subplots(3,3)\n",
    "    axarr[0,0].imshow(image_dict['0_2570184_1148461.tif'], vmin=0, vmax=v_max)\n",
    "    axarr[0,1].imshow(image_dict['4_2569842_1149296.tif'], vmin=0, vmax=v_max)\n",
    "    axarr[0,2].imshow(image_dict['1_2571614_1152259.tif'], vmin=0, vmax=v_max)\n",
    "    axarr[1,0].imshow(image_dict['5_2569300_1148156.tif'], vmin=0, vmax=v_max)\n",
    "    axarr[1,1].imshow(image_dict['0_2570190_1148491.tif'], vmin=0, vmax=v_max)\n",
    "    axarr[1,2].imshow(image_dict['10_2580845_1165703.tif'], vmin=0, vmax=v_max)\n",
    "    axarr[2,0].imshow(image_dict['4_2569483_1149035.tif'], vmin=0, vmax=v_max)\n",
    "    axarr[2,1].imshow(image_dict['5_2569281_1148151.tif'], vmin=0, vmax=v_max)\n",
    "    axarr[2,2].imshow(image_dict['6_2567727_1147671.tif'], vmin=0, vmax=v_max)"
   ]
  },
  {
   "cell_type": "markdown",
   "metadata": {},
   "source": [
    "## Processing"
   ]
  },
  {
   "cell_type": "markdown",
   "metadata": {},
   "source": [
    "Argument and parameter specification"
   ]
  },
  {
   "cell_type": "code",
   "execution_count": null,
   "metadata": {},
   "outputs": [],
   "source": [
    "with open('../../config/config_symbol_classif.yaml') as fp:\n",
    "    cfg = load(fp, Loader=FullLoader)['test_notebooks.py']"
   ]
  },
  {
   "cell_type": "markdown",
   "metadata": {},
   "source": [
    "Load input parameters"
   ]
  },
  {
   "cell_type": "code",
   "execution_count": null,
   "metadata": {},
   "outputs": [],
   "source": [
    "WORKING_DIR = cfg['working_dir']\n",
    "OUTPUT_DIR = cfg['output_dir']\n",
    "TILE_DIR = cfg['tile_dir']"
   ]
  },
  {
   "cell_type": "code",
   "execution_count": null,
   "metadata": {},
   "outputs": [],
   "source": [
    "os.chdir(WORKING_DIR)\n",
    "os.makedirs(OUTPUT_DIR, exist_ok=True)"
   ]
  },
  {
   "cell_type": "code",
   "execution_count": null,
   "metadata": {},
   "outputs": [],
   "source": [
    "logger.info('Read data...')\n",
    "tile_list = glob(os.path.join(TILE_DIR, '*.tif'))"
   ]
  },
  {
   "cell_type": "code",
   "execution_count": null,
   "metadata": {},
   "outputs": [],
   "source": [
    "image_data = {}\n",
    "for tile_path in tile_list:\n",
    "    with rio.open(tile_path) as src:\n",
    "        image_data[os.path.basename(tile_path)] = src.read().transpose(1, 2, 0)"
   ]
  },
  {
   "cell_type": "code",
   "execution_count": null,
   "metadata": {},
   "outputs": [],
   "source": [
    "image_dict = image_data\n",
    "f, axarr = plt.subplots(3,3)\n",
    "axarr[0,0].imshow(image_dict['0_2570184_1148461.tif'])\n",
    "axarr[0,1].imshow(image_dict['4_2569842_1149296.tif'])\n",
    "axarr[0,2].imshow(image_dict['1_2571614_1152259.tif'])\n",
    "axarr[1,0].imshow(image_dict['5_2569300_1148156.tif'])\n",
    "axarr[1,1].imshow(image_dict['0_2570190_1148491.tif'])\n",
    "axarr[1,2].imshow(image_dict['10_2580845_1165703.tif'])\n",
    "axarr[2,0].imshow(image_dict['4_2569483_1149035.tif'])\n",
    "axarr[2,1].imshow(image_dict['5_2569281_1148151.tif'])\n",
    "axarr[2,2].imshow(image_dict['6_2567727_1147671.tif'])"
   ]
  },
  {
   "cell_type": "code",
   "execution_count": null,
   "metadata": {},
   "outputs": [],
   "source": [
    "data_gray = {key: color.rgb2gray(i) for key, i in image_data.items()}"
   ]
  },
  {
   "cell_type": "code",
   "execution_count": null,
   "metadata": {},
   "outputs": [],
   "source": [
    "image_dict = data_gray\n",
    "vmax = 1\n",
    "print_images(image_dict, vmax)"
   ]
  },
  {
   "cell_type": "code",
   "execution_count": null,
   "metadata": {},
   "outputs": [],
   "source": [
    "data_ratio = {key: np.divide(i[:,:, 2], i[:,:, 0], out=i[:,:, 2].astype(np.float64), where=i[:,:, 0]!=0) for key, i in image_data.items()}"
   ]
  },
  {
   "cell_type": "code",
   "execution_count": null,
   "metadata": {},
   "outputs": [],
   "source": [
    "norm_data_ratio = {key: (i-np.min(i))/(np.max(i)-np.min(i))*255 for key, i in data_ratio.items()}"
   ]
  },
  {
   "cell_type": "code",
   "execution_count": null,
   "metadata": {},
   "outputs": [],
   "source": [
    "image_dict = data_ratio\n",
    "f, axarr = plt.subplots(3,3)\n",
    "axarr[0,0].imshow(image_dict['0_2570184_1148461.tif'], vmin=0, vmax=image_dict['0_2570184_1148461.tif'].max())\n",
    "axarr[0,1].imshow(image_dict['4_2569842_1149296.tif'], vmin=0, vmax=image_dict['4_2569842_1149296.tif'].max())\n",
    "axarr[0,2].imshow(image_dict['1_2571614_1152259.tif'], vmin=0, vmax=image_dict['1_2571614_1152259.tif'].max())\n",
    "axarr[1,0].imshow(image_dict['5_2569300_1148156.tif'], vmin=0, vmax=image_dict['5_2569300_1148156.tif'].max())\n",
    "axarr[1,1].imshow(image_dict['0_2570190_1148491.tif'], vmin=0, vmax=image_dict['0_2570190_1148491.tif'].max())\n",
    "axarr[1,2].imshow(image_dict['10_2580845_1165703.tif'], vmin=0, vmax=image_dict['10_2580845_1165703.tif'].max())\n",
    "axarr[2,0].imshow(image_dict['4_2569483_1149035.tif'], vmin=0, vmax=image_dict['4_2569483_1149035.tif'].max())\n",
    "axarr[2,1].imshow(image_dict['5_2569281_1148151.tif'], vmin=0, vmax=image_dict['5_2569281_1148151.tif'].max())\n",
    "axarr[2,2].imshow(image_dict['6_2567727_1147671.tif'], vmin=0, vmax=image_dict['6_2567727_1147671.tif'].max())"
   ]
  },
  {
   "cell_type": "code",
   "execution_count": null,
   "metadata": {},
   "outputs": [],
   "source": [
    "image_dict = norm_data_ratio\n",
    "v_max = 255\n",
    "print_images(image_dict, v_max)"
   ]
  },
  {
   "cell_type": "code",
   "execution_count": null,
   "metadata": {},
   "outputs": [],
   "source": [
    "np.histogram(data_ratio['10_2580845_1165703.tif'], bins=25)"
   ]
  },
  {
   "cell_type": "code",
   "execution_count": null,
   "metadata": {},
   "outputs": [],
   "source": [
    "np.histogram(norm_data_ratio['10_2580845_1165703.tif'], bins=50)"
   ]
  },
  {
   "cell_type": "code",
   "execution_count": null,
   "metadata": {},
   "outputs": [],
   "source": [
    "np.unique(data_ratio['10_2580845_1165703.tif'])[-2]"
   ]
  },
  {
   "cell_type": "code",
   "execution_count": null,
   "metadata": {},
   "outputs": [],
   "source": [
    "image_dict = norm_data_ratio\n",
    "v_max = 255\n",
    "print_images(image_dict, v_max)"
   ]
  },
  {
   "cell_type": "code",
   "execution_count": null,
   "metadata": {},
   "outputs": [],
   "source": [
    "# Normalized based on the second highest value\n",
    "second_norm_data = {key: np.divide((i-np.min(i)), (np.unique(i)[-2]-np.min(i)), out=np.ones_like(i), where=i<=np.unique(i)[-2])*255 for key, i in data_ratio.items()}"
   ]
  },
  {
   "cell_type": "code",
   "execution_count": null,
   "metadata": {},
   "outputs": [],
   "source": [
    "np.histogram(second_norm_data['10_2580845_1165703.tif'], bins=50)"
   ]
  },
  {
   "cell_type": "code",
   "execution_count": null,
   "metadata": {},
   "outputs": [],
   "source": [
    "image_dict = second_norm_data\n",
    "v_max = 255\n",
    "f, axarr = plt.subplots(3,3)\n",
    "axarr[0,0].imshow(image_dict['0_2570184_1148461.tif'])\n",
    "axarr[0,1].imshow(image_dict['4_2569842_1149296.tif'])\n",
    "axarr[0,2].imshow(image_dict['1_2571614_1152259.tif'])\n",
    "axarr[1,0].imshow(image_dict['5_2569300_1148156.tif'])\n",
    "axarr[1,1].imshow(image_dict['0_2570190_1148491.tif'])\n",
    "axarr[1,2].imshow(image_dict['10_2580845_1165703.tif'])\n",
    "axarr[2,0].imshow(image_dict['4_2569483_1149035.tif'])\n",
    "axarr[2,1].imshow(image_dict['5_2569281_1148151.tif'])\n",
    "axarr[2,2].imshow(image_dict['6_2567727_1147671.tif'])"
   ]
  },
  {
   "cell_type": "code",
   "execution_count": null,
   "metadata": {},
   "outputs": [],
   "source": [
    "# Normalized all value between 0 and 2 to a range of 0 to 255\n",
    "third_norm_data = {key: np.divide((i-np.min(i)), (2-np.min(i)), out=np.ones_like(i), where=i<2)*255 for key, i in data_ratio.items()}"
   ]
  },
  {
   "cell_type": "code",
   "execution_count": null,
   "metadata": {},
   "outputs": [],
   "source": [
    "np.histogram(third_norm_data['6_2567727_1147671.tif'], bins=50)"
   ]
  },
  {
   "cell_type": "code",
   "execution_count": null,
   "metadata": {},
   "outputs": [],
   "source": [
    "image_dict = third_norm_data\n",
    "v_max = 255\n",
    "print_images(image_dict, v_max)"
   ]
  },
  {
   "cell_type": "markdown",
   "metadata": {},
   "source": [
    "### Hog on scaled data"
   ]
  },
  {
   "cell_type": "code",
   "execution_count": null,
   "metadata": {},
   "outputs": [],
   "source": [
    "hog_scaled_images, hog_scaled_features = im_list_to_hog(third_norm_data)"
   ]
  },
  {
   "cell_type": "code",
   "execution_count": null,
   "metadata": {},
   "outputs": [],
   "source": [
    "np.histogram(hog_scaled_images['6_2567727_1147671.tif'], bins=50)"
   ]
  },
  {
   "cell_type": "code",
   "execution_count": null,
   "metadata": {},
   "outputs": [],
   "source": [
    "image_dict = hog_scaled_images\n",
    "v_max = 25\n",
    "print_images(image_dict, v_max)"
   ]
  },
  {
   "cell_type": "markdown",
   "metadata": {},
   "source": [
    "### HOG on grey images"
   ]
  },
  {
   "cell_type": "markdown",
   "metadata": {},
   "source": [
    "#### Scale images"
   ]
  },
  {
   "cell_type": "code",
   "execution_count": null,
   "metadata": {},
   "outputs": [],
   "source": [
    "cropped_images = {k: remove_black_border(v) for k, v in data_gray.items()}"
   ]
  },
  {
   "cell_type": "code",
   "execution_count": null,
   "metadata": {},
   "outputs": [],
   "source": [
    "print(data_gray['13_2584431_1160733.tif'].shape)\n",
    "print(cropped_images['13_2584431_1160733.tif'].shape)"
   ]
  },
  {
   "cell_type": "code",
   "execution_count": null,
   "metadata": {},
   "outputs": [],
   "source": [
    "oriented_grey_images = {k: v.transpose(1, 0) if v.shape[1] > v.shape[0] else v for k, v in cropped_images.items()}"
   ]
  },
  {
   "cell_type": "markdown",
   "metadata": {},
   "source": [
    "Get ratio and size of the images"
   ]
  },
  {
   "cell_type": "code",
   "execution_count": null,
   "metadata": {},
   "outputs": [],
   "source": [
    "size_ratio = {k: v.shape[0] / v.shape[1] for k, v in oriented_grey_images.items()}\n",
    "print(min(size_ratio.values()), max(size_ratio.values()))"
   ]
  },
  {
   "cell_type": "code",
   "execution_count": null,
   "metadata": {},
   "outputs": [],
   "source": [
    "max_size_images = {k: max(v.shape) for k, v in oriented_grey_images.items()}\n",
    "array_values = np.array(list(max_size_images.values()))\n",
    "print(min(max_size_images.values()), max(max_size_images.values()), np.median(array_values))"
   ]
  },
  {
   "cell_type": "code",
   "execution_count": null,
   "metadata": {},
   "outputs": [],
   "source": [
    "min_size_images = {k: min(v.shape) for k, v in oriented_grey_images.items()}\n",
    "array_values = np.array(list(min_size_images.values()))\n",
    "print(min(min_size_images.values()), max(min_size_images.values()), np.median(array_values))"
   ]
  },
  {
   "cell_type": "code",
   "execution_count": null,
   "metadata": {},
   "outputs": [],
   "source": [
    "df = pd.DataFrame.from_dict(size_ratio, orient='index')\n",
    "df.hist(bins=50)\n",
    "plt.title('Size Ratio')"
   ]
  },
  {
   "cell_type": "code",
   "execution_count": null,
   "metadata": {},
   "outputs": [],
   "source": [
    "df = pd.DataFrame.from_dict(max_size_images, orient='index')\n",
    "df.hist(bins=50)\n",
    "plt.title('Image size')"
   ]
  },
  {
   "cell_type": "code",
   "execution_count": null,
   "metadata": {},
   "outputs": [],
   "source": [
    "resized_images = {}\n",
    "for name, image in cropped_images.items():\n",
    "    new_size = np.median(array_values)\n",
    "    if max(cropped_images[name].shape) <= new_size:\n",
    "        resized_images[name] = resize(cropped_images[name], (new_size, new_size))\n",
    "    else:\n",
    "        resized_images[name] = resize(cropped_images[name], (new_size, new_size), anti_aliasing=True)"
   ]
  },
  {
   "cell_type": "code",
   "execution_count": null,
   "metadata": {},
   "outputs": [],
   "source": [
    "print(cropped_images['0_2570184_1148461.tif'].shape, cropped_images['4_2569842_1149296.tif'].shape, cropped_images['1_2571614_1152259.tif'].shape)\n",
    "print(cropped_images['5_2569300_1148156.tif'].shape, cropped_images['0_2570190_1148491.tif'].shape, cropped_images['10_2580845_1165703.tif'].shape)\n",
    "print(cropped_images['4_2569483_1149035.tif'].shape, cropped_images['5_2569281_1148151.tif'].shape, cropped_images['6_2567727_1147671.tif'].shape)"
   ]
  },
  {
   "cell_type": "code",
   "execution_count": null,
   "metadata": {},
   "outputs": [],
   "source": [
    "print(resized_images['0_2570184_1148461.tif'].shape, resized_images['4_2569842_1149296.tif'].shape, resized_images['1_2571614_1152259.tif'].shape)\n",
    "print(resized_images['5_2569300_1148156.tif'].shape, resized_images['0_2570190_1148491.tif'].shape, resized_images['10_2580845_1165703.tif'].shape)\n",
    "print(resized_images['4_2569483_1149035.tif'].shape, resized_images['5_2569281_1148151.tif'].shape, resized_images['6_2567727_1147671.tif'].shape)"
   ]
  },
  {
   "cell_type": "code",
   "execution_count": null,
   "metadata": {},
   "outputs": [],
   "source": [
    "image_dict = resized_images\n",
    "v_max = 1\n",
    "print_images(image_dict, v_max)"
   ]
  },
  {
   "cell_type": "code",
   "execution_count": null,
   "metadata": {},
   "outputs": [],
   "source": [
    "max_size_images = {k: max(v.shape) for k, v in resized_images.items()}\n",
    "array_values = np.array(list(max_size_images.values()))\n",
    "print(min(max_size_images.values()), max(max_size_images.values()), np.median(array_values))"
   ]
  },
  {
   "cell_type": "markdown",
   "metadata": {},
   "source": [
    "#### Apply HOG"
   ]
  },
  {
   "cell_type": "code",
   "execution_count": null,
   "metadata": {},
   "outputs": [],
   "source": [
    "hog_gray_images, hog_gray_features = im_list_to_hog(resized_images)"
   ]
  },
  {
   "cell_type": "code",
   "execution_count": null,
   "metadata": {},
   "outputs": [],
   "source": [
    "np.histogram(hog_gray_images['6_2567727_1147671.tif'], bins=50)"
   ]
  },
  {
   "cell_type": "code",
   "execution_count": null,
   "metadata": {},
   "outputs": [],
   "source": [
    "image_dict = hog_gray_images\n",
    "v_max = 0.1\n",
    "print_images(image_dict, v_max)"
   ]
  },
  {
   "cell_type": "code",
   "execution_count": null,
   "metadata": {},
   "outputs": [],
   "source": [
    "test_list = [len(ft) for ft in hog_gray_features.values()]\n",
    "(min(test_list), max(test_list))"
   ]
  },
  {
   "cell_type": "code",
   "execution_count": null,
   "metadata": {},
   "outputs": [],
   "source": [
    "print(hog_gray_features['0_2570184_1148461.tif'])"
   ]
  },
  {
   "cell_type": "markdown",
   "metadata": {},
   "source": [
    "#### Control correlation to save only necessary features"
   ]
  },
  {
   "cell_type": "code",
   "execution_count": null,
   "metadata": {},
   "outputs": [],
   "source": [
    "hog_features_df = pd.DataFrame(hog_gray_features)\n",
    "hog_features_df = hog_features_df.transpose()"
   ]
  },
  {
   "cell_type": "code",
   "execution_count": null,
   "metadata": {},
   "outputs": [],
   "source": [
    "hog_features_df.head()"
   ]
  },
  {
   "cell_type": "code",
   "execution_count": null,
   "metadata": {},
   "outputs": [],
   "source": [
    "corr_hog_features = hog_features_df.corr()"
   ]
  },
  {
   "cell_type": "code",
   "execution_count": null,
   "metadata": {},
   "outputs": [],
   "source": [
    "high_corr_indices = np.where(corr_hog_features.abs() > 0.667)\n",
    "row_indices = high_corr_indices[0]\n",
    "column_indices = high_corr_indices[1]"
   ]
  },
  {
   "cell_type": "code",
   "execution_count": null,
   "metadata": {},
   "outputs": [],
   "source": [
    "filtered_row_indices = [row for row, col in zip(row_indices, column_indices) if row < col]\n",
    "filtered_column_indices = [col for row, col in zip(row_indices, column_indices) if row < col]\n",
    "filtered_indices_list = filtered_row_indices + filtered_column_indices\n",
    "\n",
    "filtered_pos_dict = {i: [filtered_row_indices[i], filtered_column_indices[i]] for i in range(len(filtered_row_indices))}\n",
    "filtered_pos_df = pd.DataFrame(filtered_pos_dict).transpose()"
   ]
  },
  {
   "cell_type": "code",
   "execution_count": null,
   "metadata": {},
   "outputs": [],
   "source": [
    "values_count = Counter(filtered_indices_list)\n",
    "print(values_count.most_common(25))"
   ]
  },
  {
   "cell_type": "code",
   "execution_count": null,
   "metadata": {},
   "outputs": [],
   "source": [
    "left_duplicates_df = filtered_pos_df.copy()\n",
    "cleaned_hog_features_df = hog_features_df.copy()\n",
    "for value, _ in values_count.most_common():\n",
    "    cleaned_hog_features_df.drop(columns=[value], inplace=True)\n",
    "    left_duplicates_df = left_duplicates_df[(left_duplicates_df[0] != value) & (left_duplicates_df[1] != value)].copy()\n",
    "\n",
    "    if left_duplicates_df.empty:\n",
    "        break"
   ]
  },
  {
   "cell_type": "code",
   "execution_count": null,
   "metadata": {},
   "outputs": [],
   "source": [
    "logger.info(f'{hog_features_df.shape[1] - cleaned_hog_features_df.shape[1]} features were dropped because of a high correlation.')\n",
    "logger.info(f'{len(values_count.keys())} features were listed in the list of indices')\n",
    "logger.info(f'{cleaned_hog_features_df.shape[1]} hog features are left.')"
   ]
  },
  {
   "cell_type": "code",
   "execution_count": null,
   "metadata": {},
   "outputs": [],
   "source": [
    "cleaned_hog_features_df.head(5)"
   ]
  },
  {
   "cell_type": "code",
   "execution_count": null,
   "metadata": {},
   "outputs": [],
   "source": [
    "cleaned_hog_features_df.to_csv(os.path.join(OUTPUT_DIR, 'hog_features.csv'))"
   ]
  },
  {
   "cell_type": "code",
   "execution_count": null,
   "metadata": {},
   "outputs": [],
   "source": []
  }
 ],
 "metadata": {
  "kernelspec": {
   "display_name": "borderpoints",
   "language": "python",
   "name": "python3"
  },
  "language_info": {
   "codemirror_mode": {
    "name": "ipython",
    "version": 3
   },
   "file_extension": ".py",
   "mimetype": "text/x-python",
   "name": "python",
   "nbconvert_exporter": "python",
   "pygments_lexer": "ipython3",
   "version": "3.12.2"
  }
 },
 "nbformat": 4,
 "nbformat_minor": 2
}
