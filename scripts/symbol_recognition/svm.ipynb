{
 "cells": [
  {
   "cell_type": "code",
   "execution_count": null,
   "metadata": {},
   "outputs": [],
   "source": [
    "import os\n",
    "import sys\n",
    "from loguru import logger\n",
    "from tqdm import tqdm\n",
    "from yaml import load, FullLoader\n",
    "\n",
    "import geopandas as gpd\n",
    "import numpy as np\n",
    "import pandas as pd\n",
    "from sklearn import svm\n",
    "from sklearn.metrics import classification_report, accuracy_score, confusion_matrix\n",
    "from sklearn.model_selection import GridSearchCV, train_test_split\n",
    "from sklearn.preprocessing import StandardScaler"
   ]
  },
  {
   "cell_type": "code",
   "execution_count": null,
   "metadata": {},
   "outputs": [],
   "source": [
    "sys.path.insert(1,'..')\n",
    "import functions.fct_misc as misc\n",
    "\n",
    "logger = misc.format_logger(logger)"
   ]
  },
  {
   "cell_type": "markdown",
   "metadata": {},
   "source": [
    "# Processing"
   ]
  },
  {
   "cell_type": "code",
   "execution_count": null,
   "metadata": {},
   "outputs": [],
   "source": [
    "with open('../../config/config_symbol_classif.yaml') as fp:\n",
    "    cfg = load(fp, Loader=FullLoader)['test_notebooks.py']"
   ]
  },
  {
   "cell_type": "code",
   "execution_count": null,
   "metadata": {},
   "outputs": [],
   "source": [
    "WORKING_DIR = cfg['working_dir']\n",
    "OUTPUT_DIR = cfg['output_dir']\n",
    "SVM_DIR = cfg['svm_dir']\n",
    "\n",
    "IMAGES_FILE = cfg['image_gpkg']\n",
    "HOG_FEATURES = cfg['hog_features']\n",
    "BAND_STATS = cfg['band_stats']"
   ]
  },
  {
   "cell_type": "code",
   "execution_count": null,
   "metadata": {},
   "outputs": [],
   "source": [
    "os.chdir(WORKING_DIR)\n",
    "os.makedirs(SVM_DIR, exist_ok=True)"
   ]
  },
  {
   "cell_type": "markdown",
   "metadata": {},
   "source": [
    "Read files"
   ]
  },
  {
   "cell_type": "code",
   "execution_count": null,
   "metadata": {},
   "outputs": [],
   "source": [
    "images_gdf = gpd.read_file(IMAGES_FILE)\n",
    "band_stats_df = pd.read_csv(BAND_STATS)\n",
    "hog_features_df = pd.read_csv(HOG_FEATURES)"
   ]
  },
  {
   "cell_type": "code",
   "execution_count": null,
   "metadata": {},
   "outputs": [],
   "source": [
    "images_gdf.head()"
   ]
  },
  {
   "cell_type": "code",
   "execution_count": null,
   "metadata": {},
   "outputs": [],
   "source": [
    "band_stats_df.head()"
   ]
  },
  {
   "cell_type": "code",
   "execution_count": null,
   "metadata": {},
   "outputs": [],
   "source": [
    "hog_features_df.columns"
   ]
  },
  {
   "cell_type": "code",
   "execution_count": null,
   "metadata": {},
   "outputs": [],
   "source": [
    "images_w_stats_gdf = images_gdf.copy()\n",
    "stat_list = []\n",
    "for band in band_stats_df.band.unique():\n",
    "    sub_band_stats_df = band_stats_df[band_stats_df.band == band].copy()\n",
    "    sub_band_stats_df.rename(columns={'mean': f'mean_{band}', 'std': f'std_{band}', 'median': f'median_{band}', 'min': f'min_{band}', 'max': f'max_{band}'}, inplace=True)\n",
    "    sub_band_stats_df.drop(columns=['CATEGORY', 'band'], inplace=True)\n",
    "    sub_band_stats_df.loc[:, 'image_name'] = sub_band_stats_df.image_name.str.rstrip('.tif')\n",
    "\n",
    "    images_w_stats_gdf = images_w_stats_gdf.merge(sub_band_stats_df, how='inner', on='image_name')\n",
    "    \n",
    "    stat_list.extend([f'mean_{band}', f'std_{band}', f'median_{band}', f'min_{band}', f'max_{band}'])"
   ]
  },
  {
   "cell_type": "code",
   "execution_count": null,
   "metadata": {},
   "outputs": [],
   "source": [
    "logger.error(f'{} elements were lost when joining the images and stats.')"
   ]
  },
  {
   "cell_type": "code",
   "execution_count": null,
   "metadata": {},
   "outputs": [],
   "source": [
    "images_w_stats_gdf.columns"
   ]
  },
  {
   "cell_type": "code",
   "execution_count": null,
   "metadata": {},
   "outputs": [],
   "source": [
    "corr_band_stats = images_w_stats_gdf[stat_list].corr()\n",
    "corr_band_stats.to_excel(os.path.join(OUTPUT_DIR, 'band_stats_corr.xlsx'))"
   ]
  },
  {
   "cell_type": "code",
   "execution_count": null,
   "metadata": {},
   "outputs": [],
   "source": [
    "images_w_stats_gdf.drop(columns=[\n",
    "    'mean_R', 'std_R', 'mean_G', 'min_G', 'mean_B', 'std_B',    # Columns with a high correlation with at least one other column\n",
    "    'max_R', 'max_G',                                           # Columns unlikely to bring information based on the boxplot\n",
    "], inplace=True)"
   ]
  },
  {
   "cell_type": "code",
   "execution_count": null,
   "metadata": {},
   "outputs": [],
   "source": [
    "name_map = {col: f'hog_{col}' for col in hog_features_df.columns if col != 'Unnamed: 0'}\n",
    "hog_features_df.rename(columns=name_map, inplace=True)\n",
    "hog_features_df['image_name'] = hog_features_df['Unnamed: 0'].str.rstrip('.tif')\n",
    "hog_features_df.drop(columns=['Unnamed: 0'], inplace=True)\n"
   ]
  },
  {
   "cell_type": "code",
   "execution_count": null,
   "metadata": {},
   "outputs": [],
   "source": [
    "hog_features_df.head()"
   ]
  },
  {
   "cell_type": "code",
   "execution_count": null,
   "metadata": {},
   "outputs": [],
   "source": [
    "features_gdf = images_w_stats_gdf.merge(hog_features_df, how='inner', on='image_name')"
   ]
  },
  {
   "cell_type": "code",
   "execution_count": null,
   "metadata": {},
   "outputs": [],
   "source": [
    "features_gdf.head()"
   ]
  },
  {
   "cell_type": "code",
   "execution_count": null,
   "metadata": {},
   "outputs": [],
   "source": [
    "len(images_w_stats_gdf) - len(features_gdf)"
   ]
  },
  {
   "cell_type": "code",
   "execution_count": null,
   "metadata": {},
   "outputs": [],
   "source": [
    "features_gdf.columns"
   ]
  },
  {
   "cell_type": "code",
   "execution_count": null,
   "metadata": {},
   "outputs": [],
   "source": [
    "features_list = [col for col in features_gdf.columns if col.split('_')[0] in ['min', 'median', 'std', 'max', 'hog']]"
   ]
  },
  {
   "cell_type": "code",
   "execution_count": null,
   "metadata": {},
   "outputs": [],
   "source": [
    "features_gdf[features_list].to_numpy()"
   ]
  },
  {
   "cell_type": "code",
   "execution_count": null,
   "metadata": {},
   "outputs": [],
   "source": [
    "data_trn, data_tst, label_trn, label_tst, image_trn, image_tst = train_test_split(\n",
    "    features_gdf[features_list].to_numpy(), features_gdf.CATEGORY, features_gdf.image_name, test_size=0.2, random_state=42\n",
    ")"
   ]
  },
  {
   "cell_type": "code",
   "execution_count": null,
   "metadata": {},
   "outputs": [],
   "source": [
    "split_control_df = pd.merge(label_trn.value_counts().reset_index(), label_tst.value_counts().reset_index(), on='CATEGORY', suffixes=('_trn', '_tst'))\n",
    "split_control_df['part_tst'] = round(split_control_df['count_tst'] / (split_control_df['count_tst'] + split_control_df['count_trn']), 3)\n",
    "too_low = split_control_df[split_control_df['part_tst'] < 0.17].shape[0]\n",
    "\n",
    "print(too_low)\n",
    "split_control_df"
   ]
  },
  {
   "cell_type": "code",
   "execution_count": null,
   "metadata": {},
   "outputs": [],
   "source": [
    "# https://scikit-learn.org/stable/modules/svm.html#tips-on-practical-use\n",
    "svc_model = svm.SVC(random_state=42, cache_size=1000)\n",
    "scaler = StandardScaler()\n",
    "\n",
    "parameters = {\n",
    "    'C': [i/10 for i in range(5, 50, 1)],\n",
    "    'kernel': ['linear', 'rbf', 'sigmoid'],\n",
    "    'gamma': ['scale', 'auto']\n",
    "}\n",
    "clf = GridSearchCV(svc_model, parameters, n_jobs=10, verbose=2, scoring='f1_weighted')"
   ]
  },
  {
   "cell_type": "code",
   "execution_count": null,
   "metadata": {},
   "outputs": [],
   "source": [
    "data_trn_scaled = scaler.fit_transform(data_trn)\n",
    "data_tst_scaled = scaler.transform(data_tst)"
   ]
  },
  {
   "cell_type": "code",
   "execution_count": null,
   "metadata": {},
   "outputs": [],
   "source": [
    "clf.fit(data_trn_scaled, label_trn)"
   ]
  },
  {
   "cell_type": "code",
   "execution_count": null,
   "metadata": {},
   "outputs": [],
   "source": [
    "clf.best_params_"
   ]
  },
  {
   "cell_type": "code",
   "execution_count": null,
   "metadata": {},
   "outputs": [],
   "source": [
    "pred_tst = clf.predict(data_tst_scaled)\n",
    "pred_trn = clf.predict(data_trn_scaled)"
   ]
  },
  {
   "cell_type": "code",
   "execution_count": null,
   "metadata": {},
   "outputs": [],
   "source": [
    "confusion_matrix_df = pd.DataFrame(confusion_matrix(label_tst, pred_tst), columns=clf.classes_, index=clf.classes_)\n",
    "confusion_matrix_df"
   ]
  },
  {
   "cell_type": "code",
   "execution_count": null,
   "metadata": {},
   "outputs": [],
   "source": [
    "print('METRICS FOR TEST DATA')\n",
    "print(\"Accuracy: \"+str(round(accuracy_score(label_tst, pred_tst), 3)))\n",
    "print('\\n')\n",
    "print(classification_report(label_tst, pred_tst))\n",
    "print('\\n')"
   ]
  },
  {
   "cell_type": "code",
   "execution_count": null,
   "metadata": {},
   "outputs": [],
   "source": [
    "print('METRICS FOR TRAINING DATA')\n",
    "print(\"Accuracy: \"+str(round(accuracy_score(label_trn, pred_trn), 3)))\n",
    "print('\\n')\n",
    "print(classification_report(label_trn, pred_trn))\n",
    "print('\\n')"
   ]
  },
  {
   "cell_type": "code",
   "execution_count": null,
   "metadata": {},
   "outputs": [],
   "source": [
    "results_df = pd.DataFrame({'image_name': image_tst, 'pred': pred_tst})\n",
    "results_gdf = images_gdf.merge(results_df, how='inner', on='image_name')\n",
    "results_gdf['correct'] = [True if row.CATEGORY == row.pred else False for row in results_gdf.itertuples()]"
   ]
  },
  {
   "cell_type": "code",
   "execution_count": null,
   "metadata": {},
   "outputs": [],
   "source": [
    "results_gdf.to_file(os.path.join(SVM_DIR, 'svm_results.gpkg'))"
   ]
  },
  {
   "cell_type": "code",
   "execution_count": null,
   "metadata": {},
   "outputs": [],
   "source": []
  }
 ],
 "metadata": {
  "kernelspec": {
   "display_name": "borderpoints",
   "language": "python",
   "name": "python3"
  },
  "language_info": {
   "codemirror_mode": {
    "name": "ipython",
    "version": 3
   },
   "file_extension": ".py",
   "mimetype": "text/x-python",
   "name": "python",
   "nbconvert_exporter": "python",
   "pygments_lexer": "ipython3",
   "version": "3.12.2"
  }
 },
 "nbformat": 4,
 "nbformat_minor": 2
}
